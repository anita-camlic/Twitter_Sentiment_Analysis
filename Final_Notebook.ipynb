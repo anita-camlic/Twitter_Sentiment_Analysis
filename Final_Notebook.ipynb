{
 "cells": [
  {
   "cell_type": "markdown",
   "metadata": {},
   "source": [
    "## PUT BANNER HERE "
   ]
  },
  {
   "cell_type": "markdown",
   "metadata": {},
   "source": [
    "# Twitter Sentiment Analysis\n",
    "Authors: Anita Camlic, Dermot O'Brien, Dermot Holcombe\n",
    "______________________________________________________________________________________________________"
   ]
  },
  {
   "cell_type": "markdown",
   "metadata": {},
   "source": [
    "## Overview \n",
    "Apple wants to be able to understand their users. Since product reviews can have bias, we turned to Twitter. Twitter is a public service for friends, family, and coworkers to communicate and stay connected through the exchange of quick, frequent messages. People post Tweets, which may contain photos, videos, links, and text. These messages are posted to your profile, sent to your followers, and are searchable on Twitter search. \n",
    "We are using a dataset with tweets from the 2016 South by Southwest music festival. These tweets are labeled by sentiment (Positive, Neutral, Negative). Each row in the data provides relavant information about the content in each tweet. We used this dataset along with natural language processing techniques to predict tweet sentiment about Apple products and the brand itself.  "
   ]
  },
  {
   "cell_type": "markdown",
   "metadata": {},
   "source": [
    "## Business Problem\n",
    "\n",
    "The Apple Product team is constantly looking for changes they can implement to keep users happy. We were asked by Apple's Product team to create a model that can predict the sentiment of a tweet based on it's content. This model will categorize tweets as either positive or negative.\n",
    "\n",
    "After the tweets are categorized, the Apple Product team can take a look at our words/bigrams with the highest TF-IDF average, and use that to inspire changes in certain products. Or, they can take a look at the negative tweets and the direct complaints that users are making on Twitter. These complaints and statements can then be used to make informed changes to products that users are unhappy about. This model will act as a general filter for finding tweets to provide insight on places of improvement.\n",
    "\n",
    "In turn, this will allow Apple to better serve their users. It will give them the opportunity to make changes to products, that will hopefully decrease the amount of complaints and increase the positive viewpoints of the Apple and it's products."
   ]
  },
  {
   "cell_type": "markdown",
   "metadata": {},
   "source": [
    "## Data Overview\n",
    "\n",
    "The original dataset contains 3 columns titled 'tweet_text', 'emotion_in_tweet_is_directed_at', and 'is_there_an_emotion_directed_at_a_brand_or_product'. The column 'tweet_text' contains individual tweet content as a string and was renamed 'tweet' for easier understanding. The column 'emotion_in_tweet_is_directed_at' contains strings representing the subject that the tweet is discussing and was renamed 'subject' for simplification. The column 'is_there_an_emotion_directed_at_a_brand_or_product' contains strings representing the percieved emotion being conveyed in the tweet. This column was renamed for 'emotion' for simplification.  "
   ]
  },
  {
   "cell_type": "markdown",
   "metadata": {},
   "source": [
    "# Data Understanding\n",
    "In this section, we are going to explore the dataset with visual analysis and then take a deeper dive into the variables with some visualizations. We are expecting to find some missing values and mislabeled data that we can clean later on."
   ]
  },
  {
   "cell_type": "markdown",
   "metadata": {},
   "source": [
    "### Import Data and Create Dataframe"
   ]
  },
  {
   "cell_type": "code",
   "execution_count": 1,
   "metadata": {},
   "outputs": [],
   "source": [
    "import pandas as pd\n",
    "import os\n",
    "import sys\n",
    "module_path = os.path.abspath(os.path.join(os.pardir, os.pardir))\n",
    "if module_path not in sys.path:\n",
    "    sys.path.append(module_path)\n",
    "    \n",
    "import pandas as pd\n",
    "import nltk\n",
    "from nltk.probability import FreqDist\n",
    "from nltk.corpus import stopwords\n",
    "from nltk.tokenize import regexp_tokenize, word_tokenize, RegexpTokenizer\n",
    "import matplotlib.pyplot as plt\n",
    "import string\n",
    "import re\n",
    "import numpy as np\n",
    "from sklearn.model_selection import train_test_split\n",
    "from nltk.stem.snowball import SnowballStemmer\n",
    "from sklearn.feature_extraction.text import TfidfVectorizer\n",
    "from sklearn.naive_bayes import MultinomialNB\n",
    "from sklearn.model_selection import cross_val_score\n",
    "from sklearn.tree import DecisionTreeClassifier\n",
    "from sklearn.ensemble import RandomForestClassifier\n",
    "from sklearn.model_selection import GridSearchCV\n",
    "from sklearn.metrics import recall_score, precision_score, accuracy_score"
   ]
  },
  {
   "cell_type": "code",
   "execution_count": 2,
   "metadata": {},
   "outputs": [
    {
     "name": "stderr",
     "output_type": "stream",
     "text": [
      "[nltk_data] Downloading package stopwords to\n",
      "[nltk_data]     /Users/dermotobrien/nltk_data...\n",
      "[nltk_data]   Package stopwords is already up-to-date!\n"
     ]
    },
    {
     "data": {
      "text/plain": [
       "True"
      ]
     },
     "execution_count": 2,
     "metadata": {},
     "output_type": "execute_result"
    }
   ],
   "source": [
    "# use this do download stopwords if you haven't done this before - only needs to be done once\n",
    "nltk.download(\"stopwords\")"
   ]
  },
  {
   "cell_type": "code",
   "execution_count": 3,
   "metadata": {},
   "outputs": [],
   "source": [
    "# loading in dataframe, using special encoder parameter to save it correctly and without errors\n",
    "df = pd.read_csv('twitter_data.csv',encoding= 'unicode_escape')"
   ]
  },
  {
   "cell_type": "code",
   "execution_count": 4,
   "metadata": {},
   "outputs": [],
   "source": [
    "# renaming the columns for simplicity purposes\n",
    "df = df.rename(columns={\"tweet_text\": \"tweet\", \"emotion_in_tweet_is_directed_at\": \"subject\", \"is_there_an_emotion_directed_at_a_brand_or_product\": \"emotion\"})"
   ]
  },
  {
   "cell_type": "markdown",
   "metadata": {},
   "source": [
    "### Exploratory Data Analysis (EDA)"
   ]
  },
  {
   "cell_type": "code",
   "execution_count": 5,
   "metadata": {},
   "outputs": [
    {
     "data": {
      "text/plain": [
       "(9093, 3)"
      ]
     },
     "execution_count": 5,
     "metadata": {},
     "output_type": "execute_result"
    }
   ],
   "source": [
    "# Check rows and columns\n",
    "df.shape"
   ]
  },
  {
   "cell_type": "code",
   "execution_count": 6,
   "metadata": {},
   "outputs": [
    {
     "data": {
      "text/html": [
       "<div>\n",
       "<style scoped>\n",
       "    .dataframe tbody tr th:only-of-type {\n",
       "        vertical-align: middle;\n",
       "    }\n",
       "\n",
       "    .dataframe tbody tr th {\n",
       "        vertical-align: top;\n",
       "    }\n",
       "\n",
       "    .dataframe thead th {\n",
       "        text-align: right;\n",
       "    }\n",
       "</style>\n",
       "<table border=\"1\" class=\"dataframe\">\n",
       "  <thead>\n",
       "    <tr style=\"text-align: right;\">\n",
       "      <th></th>\n",
       "      <th>tweet</th>\n",
       "      <th>subject</th>\n",
       "      <th>emotion</th>\n",
       "    </tr>\n",
       "  </thead>\n",
       "  <tbody>\n",
       "    <tr>\n",
       "      <th>0</th>\n",
       "      <td>.@wesley83 I have a 3G iPhone. After 3 hrs twe...</td>\n",
       "      <td>iPhone</td>\n",
       "      <td>Negative emotion</td>\n",
       "    </tr>\n",
       "    <tr>\n",
       "      <th>1</th>\n",
       "      <td>@jessedee Know about @fludapp ? Awesome iPad/i...</td>\n",
       "      <td>iPad or iPhone App</td>\n",
       "      <td>Positive emotion</td>\n",
       "    </tr>\n",
       "    <tr>\n",
       "      <th>2</th>\n",
       "      <td>@swonderlin Can not wait for #iPad 2 also. The...</td>\n",
       "      <td>iPad</td>\n",
       "      <td>Positive emotion</td>\n",
       "    </tr>\n",
       "    <tr>\n",
       "      <th>3</th>\n",
       "      <td>@sxsw I hope this year's festival isn't as cra...</td>\n",
       "      <td>iPad or iPhone App</td>\n",
       "      <td>Negative emotion</td>\n",
       "    </tr>\n",
       "    <tr>\n",
       "      <th>4</th>\n",
       "      <td>@sxtxstate great stuff on Fri #SXSW: Marissa M...</td>\n",
       "      <td>Google</td>\n",
       "      <td>Positive emotion</td>\n",
       "    </tr>\n",
       "  </tbody>\n",
       "</table>\n",
       "</div>"
      ],
      "text/plain": [
       "                                               tweet             subject  \\\n",
       "0  .@wesley83 I have a 3G iPhone. After 3 hrs twe...              iPhone   \n",
       "1  @jessedee Know about @fludapp ? Awesome iPad/i...  iPad or iPhone App   \n",
       "2  @swonderlin Can not wait for #iPad 2 also. The...                iPad   \n",
       "3  @sxsw I hope this year's festival isn't as cra...  iPad or iPhone App   \n",
       "4  @sxtxstate great stuff on Fri #SXSW: Marissa M...              Google   \n",
       "\n",
       "            emotion  \n",
       "0  Negative emotion  \n",
       "1  Positive emotion  \n",
       "2  Positive emotion  \n",
       "3  Negative emotion  \n",
       "4  Positive emotion  "
      ]
     },
     "execution_count": 6,
     "metadata": {},
     "output_type": "execute_result"
    }
   ],
   "source": [
    "# See what each row looks like\n",
    "df.head()"
   ]
  },
  {
   "cell_type": "code",
   "execution_count": 7,
   "metadata": {},
   "outputs": [
    {
     "data": {
      "text/plain": [
       "('.@wesley83 I have a 3G iPhone. After 3 hrs tweeting at #RISE_Austin, it was dead!  I need to upgrade. Plugin stations at #SXSW.',\n",
       " '@swonderlin Can not wait for #iPad 2 also. They should sale them down at #SXSW.',\n",
       " \"@sxtxstate great stuff on Fri #SXSW: Marissa Mayer (Google), Tim O'Reilly (tech books/conferences) &amp; Matt Mullenweg (Wordpress)\")"
      ]
     },
     "execution_count": 7,
     "metadata": {},
     "output_type": "execute_result"
    }
   ],
   "source": [
    "# See what an example tweet looks like \n",
    "df['tweet'][0],df['tweet'][2],df['tweet'][4]"
   ]
  },
  {
   "cell_type": "code",
   "execution_count": 8,
   "metadata": {},
   "outputs": [
    {
     "data": {
      "text/html": [
       "<div>\n",
       "<style scoped>\n",
       "    .dataframe tbody tr th:only-of-type {\n",
       "        vertical-align: middle;\n",
       "    }\n",
       "\n",
       "    .dataframe tbody tr th {\n",
       "        vertical-align: top;\n",
       "    }\n",
       "\n",
       "    .dataframe thead th {\n",
       "        text-align: right;\n",
       "    }\n",
       "</style>\n",
       "<table border=\"1\" class=\"dataframe\">\n",
       "  <thead>\n",
       "    <tr style=\"text-align: right;\">\n",
       "      <th></th>\n",
       "      <th>tweet</th>\n",
       "      <th>subject</th>\n",
       "      <th>emotion</th>\n",
       "    </tr>\n",
       "  </thead>\n",
       "  <tbody>\n",
       "    <tr>\n",
       "      <th>count</th>\n",
       "      <td>9092</td>\n",
       "      <td>3291</td>\n",
       "      <td>9093</td>\n",
       "    </tr>\n",
       "    <tr>\n",
       "      <th>unique</th>\n",
       "      <td>9065</td>\n",
       "      <td>9</td>\n",
       "      <td>4</td>\n",
       "    </tr>\n",
       "    <tr>\n",
       "      <th>top</th>\n",
       "      <td>RT @mention Marissa Mayer: Google Will Connect...</td>\n",
       "      <td>iPad</td>\n",
       "      <td>No emotion toward brand or product</td>\n",
       "    </tr>\n",
       "    <tr>\n",
       "      <th>freq</th>\n",
       "      <td>5</td>\n",
       "      <td>946</td>\n",
       "      <td>5389</td>\n",
       "    </tr>\n",
       "  </tbody>\n",
       "</table>\n",
       "</div>"
      ],
      "text/plain": [
       "                                                    tweet subject  \\\n",
       "count                                                9092    3291   \n",
       "unique                                               9065       9   \n",
       "top     RT @mention Marissa Mayer: Google Will Connect...    iPad   \n",
       "freq                                                    5     946   \n",
       "\n",
       "                                   emotion  \n",
       "count                                 9093  \n",
       "unique                                   4  \n",
       "top     No emotion toward brand or product  \n",
       "freq                                  5389  "
      ]
     },
     "execution_count": 8,
     "metadata": {},
     "output_type": "execute_result"
    }
   ],
   "source": [
    "# Check descriptive statistics of numeric columns\n",
    "df.describe()"
   ]
  },
  {
   "cell_type": "code",
   "execution_count": 9,
   "metadata": {},
   "outputs": [
    {
     "data": {
      "text/plain": [
       "iPad                               0.287451\n",
       "Apple                              0.200851\n",
       "iPad or iPhone App                 0.142814\n",
       "Google                             0.130659\n",
       "iPhone                             0.090246\n",
       "Other Google product or service    0.089031\n",
       "Android App                        0.024613\n",
       "Android                            0.023701\n",
       "Other Apple product or service     0.010635\n",
       "Name: subject, dtype: float64"
      ]
     },
     "execution_count": 9,
     "metadata": {},
     "output_type": "execute_result"
    }
   ],
   "source": [
    "# looking at the spread of subjects in our data\n",
    "df['subject'].value_counts(normalize=True)"
   ]
  },
  {
   "cell_type": "code",
   "execution_count": 10,
   "metadata": {},
   "outputs": [
    {
     "data": {
      "text/plain": [
       "No emotion toward brand or product    0.592654\n",
       "Positive emotion                      0.327505\n",
       "Negative emotion                      0.062686\n",
       "I can't tell                          0.017156\n",
       "Name: emotion, dtype: float64"
      ]
     },
     "execution_count": 10,
     "metadata": {},
     "output_type": "execute_result"
    }
   ],
   "source": [
    "# looking at the spread of emotions in our data\n",
    "df['emotion'].value_counts(normalize=True)"
   ]
  },
  {
   "cell_type": "code",
   "execution_count": 11,
   "metadata": {},
   "outputs": [
    {
     "data": {
      "text/plain": [
       "tweet         1\n",
       "subject    5802\n",
       "emotion       0\n",
       "dtype: int64"
      ]
     },
     "execution_count": 11,
     "metadata": {},
     "output_type": "execute_result"
    }
   ],
   "source": [
    "# Check for NaN's\n",
    "df.isna().sum()"
   ]
  },
  {
   "cell_type": "markdown",
   "metadata": {},
   "source": [
    "# Data Preparation\n",
    "Here we prepare our data to be modeled."
   ]
  },
  {
   "cell_type": "code",
   "execution_count": 12,
   "metadata": {},
   "outputs": [],
   "source": [
    "# Here we are converting all the tweets to lowercase, so we don't run in to issues in the future\n",
    "df['tweet'] = df['tweet'].str.lower()"
   ]
  },
  {
   "cell_type": "markdown",
   "metadata": {},
   "source": [
    "Here, we are segmenting our data so that it only includes Negative or Positive emotions.We will call this new dataframe 'df_binary'. We are starting with a binary classification at first, and if we have time we will revisit multiclass classification."
   ]
  },
  {
   "cell_type": "code",
   "execution_count": 13,
   "metadata": {},
   "outputs": [],
   "source": [
    "# Creating binary class dataframe\n",
    "df_binary = df.loc[(df['emotion'] == 'Positive emotion' ) | (df['emotion'] == 'Negative emotion' )]"
   ]
  },
  {
   "cell_type": "markdown",
   "metadata": {},
   "source": [
    "We are now going to assign numeric values to the emotion. We are making the positive class (1) represent tweets with negative sentiment. We are making the negative class (0) represent tweets with positive sentiment. This is a little confusing, however we are doing this so that all of our metrics are focused on the positive class. The tweets we want to ensure classification on our negative tweets. This is because the negative tweets represent areas of improvement for Apple. So, we want to ensure all of the negative tweets are classified correctly, so we can create a more streamlined application process of our model.  "
   ]
  },
  {
   "cell_type": "code",
   "execution_count": 14,
   "metadata": {
    "scrolled": true
   },
   "outputs": [
    {
     "name": "stderr",
     "output_type": "stream",
     "text": [
      "/Users/dermotobrien/opt/anaconda3/envs/learn-env/lib/python3.8/site-packages/pandas/core/indexing.py:1596: SettingWithCopyWarning: \n",
      "A value is trying to be set on a copy of a slice from a DataFrame.\n",
      "Try using .loc[row_indexer,col_indexer] = value instead\n",
      "\n",
      "See the caveats in the documentation: https://pandas.pydata.org/pandas-docs/stable/user_guide/indexing.html#returning-a-view-versus-a-copy\n",
      "  self.obj[key] = _infer_fill_value(value)\n",
      "/Users/dermotobrien/opt/anaconda3/envs/learn-env/lib/python3.8/site-packages/pandas/core/indexing.py:1765: SettingWithCopyWarning: \n",
      "A value is trying to be set on a copy of a slice from a DataFrame.\n",
      "Try using .loc[row_indexer,col_indexer] = value instead\n",
      "\n",
      "See the caveats in the documentation: https://pandas.pydata.org/pandas-docs/stable/user_guide/indexing.html#returning-a-view-versus-a-copy\n",
      "  isetter(loc, value)\n"
     ]
    }
   ],
   "source": [
    "# Relabeling the content of the emotion column\n",
    "df_binary.loc[df_binary['emotion'] == 'Positive emotion' , 'emotion_label'] = 0\n",
    "df_binary.loc[df_binary['emotion'] == 'Negative emotion' , 'emotion_label'] = 1"
   ]
  },
  {
   "cell_type": "markdown",
   "metadata": {},
   "source": [
    "Next, we are creating a column named 'company'. This will represent the company the tweet is discussing. \n",
    "\n",
    "\n",
    "We do this by writing a function named label_brand that looks at the subject column, and based on the content of that column, will label the company column as either Apple or Google. Next, we take care of the null values in the subject column. If a row has a null value in the subject column, then we look for keywords in tweets, and labels the company accordingly. \n",
    "\n",
    "For example, if the tweet contains the words apple, iphone, ipad or itunes, it will be labeled as 'Apple'. On the flip side, if the tweet contains words like google or android, it will be labaled as 'Google. This makes it easier to tell which brand the tweet is targeting. It also decreases the complexity of the subject column. We now have only two labels: Apple and Google, instead of the previous 8. "
   ]
  },
  {
   "cell_type": "code",
   "execution_count": 15,
   "metadata": {},
   "outputs": [],
   "source": [
    "# function to label new column based on the product category \n",
    "\n",
    "def label_brand(row):\n",
    "    if row['subject'] == 'iPad':\n",
    "        return 'Apple'\n",
    "    elif row['subject'] == 'Apple':\n",
    "        return 'Apple'\n",
    "    elif row['subject'] == 'iPad or iPhone App':\n",
    "        return 'Apple'\n",
    "    elif row['subject'] == 'iPhone':\n",
    "        return 'Apple'\n",
    "    elif row['subject'] == 'Other Apple product or service':\n",
    "        return 'Apple'\n",
    "    elif row['subject'] == 'Google':\n",
    "        return 'Google'\n",
    "    elif row['subject'] == 'Other Google product or service':\n",
    "        return 'Google'\n",
    "    elif row['subject'] == 'Android App':\n",
    "        return 'Google'\n",
    "    elif row['subject'] == 'Android':\n",
    "        return 'Google'\n",
    "    elif row['subject'] == np.nan: \n",
    "        return np.nan"
   ]
  },
  {
   "cell_type": "code",
   "execution_count": 16,
   "metadata": {},
   "outputs": [
    {
     "name": "stderr",
     "output_type": "stream",
     "text": [
      "<ipython-input-16-5e3ea6029349>:2: SettingWithCopyWarning: \n",
      "A value is trying to be set on a copy of a slice from a DataFrame.\n",
      "Try using .loc[row_indexer,col_indexer] = value instead\n",
      "\n",
      "See the caveats in the documentation: https://pandas.pydata.org/pandas-docs/stable/user_guide/indexing.html#returning-a-view-versus-a-copy\n",
      "  df_binary['company'] = df_binary.apply(lambda row: label_brand(row), axis=1)\n"
     ]
    }
   ],
   "source": [
    "# Applying label_brand to all rows in df_binary\n",
    "df_binary['company'] = df_binary.apply(lambda row: label_brand(row), axis=1)"
   ]
  },
  {
   "cell_type": "code",
   "execution_count": 17,
   "metadata": {},
   "outputs": [],
   "source": [
    "# Creating words to look for in tweets to label company accordingly\n",
    "apple_words = ['apple','ipad','iphone','itunes']\n",
    "google_words = ['google','android']"
   ]
  },
  {
   "cell_type": "code",
   "execution_count": 18,
   "metadata": {},
   "outputs": [],
   "source": [
    "# Creating values for company column based on tweet content\n",
    "df_binary.loc[(df_binary['subject'].isna()) &\n",
    "              (df_binary['tweet'].str.contains('|'.join(apple_words))),'company'] = 'Apple'"
   ]
  },
  {
   "cell_type": "code",
   "execution_count": 19,
   "metadata": {},
   "outputs": [],
   "source": [
    "# Creating values for company column based on tweet content\n",
    "df_binary.loc[(df_binary['subject'].isna()) &\n",
    "              (df_binary['tweet'].str.contains('|'.join(google_words))),'company'] = 'Google'"
   ]
  },
  {
   "cell_type": "code",
   "execution_count": 20,
   "metadata": {},
   "outputs": [
    {
     "name": "stderr",
     "output_type": "stream",
     "text": [
      "<ipython-input-20-d1d5d522b508>:2: SettingWithCopyWarning: \n",
      "A value is trying to be set on a copy of a slice from a DataFrame\n",
      "\n",
      "See the caveats in the documentation: https://pandas.pydata.org/pandas-docs/stable/user_guide/indexing.html#returning-a-view-versus-a-copy\n",
      "  df_binary.dropna(subset=['company'],inplace=True)\n"
     ]
    }
   ],
   "source": [
    "# We drop the remaining 11 rows with nulls in the company column\n",
    "df_binary.dropna(subset=['company'],inplace=True)"
   ]
  },
  {
   "cell_type": "markdown",
   "metadata": {},
   "source": [
    "#### Train Test Split\n",
    "We are making a train test split that contains only the tweet column and the emotion_label column."
   ]
  },
  {
   "cell_type": "code",
   "execution_count": 21,
   "metadata": {},
   "outputs": [],
   "source": [
    "X_train, X_test, y_train, y_test = train_test_split(df_binary['tweet'],\n",
    "                                                    df_binary['emotion_label'], train_size=.9)"
   ]
  },
  {
   "cell_type": "markdown",
   "metadata": {},
   "source": [
    "Below we import the default stopword list from nltk.corpus library"
   ]
  },
  {
   "cell_type": "code",
   "execution_count": 22,
   "metadata": {},
   "outputs": [],
   "source": [
    "# creating the og_stopwords word list to be used in modeling\n",
    "og_stopwords = stopwords.words('english')"
   ]
  },
  {
   "cell_type": "markdown",
   "metadata": {},
   "source": [
    "# Data Modeling\n",
    "This is where we begin our modeling."
   ]
  },
  {
   "cell_type": "markdown",
   "metadata": {},
   "source": [
    "### Baseline Model - Naive Bayes\n",
    "Here we are creating our baseline model. For this baseline, our model will predict the most frequent class ( positive emotion ) for every tweet. So, the accuracy score should equal the percentage of the data that is actually conveying positive emotion in their tweet (83%)."
   ]
  },
  {
   "cell_type": "markdown",
   "metadata": {},
   "source": [
    "The regular expression pattern we are using for our vectorizer is r\"([a-zA-Z]+(?:'[a-z]+)?)\". We are using this pattern because it only accepts uppercase and lowercase letters as tokens. This is great for our model since we don't need extrenuous symbols like hashtags (#), at symbols(@), or any other type of punctuation (!*&...). This regex pattern also does not accept numbers. So this takes care of unwanted tokens from things like dates and times."
   ]
  },
  {
   "cell_type": "markdown",
   "metadata": {},
   "source": [
    "We are starting with the og_stopwords list for now; however, we will add to this list later."
   ]
  },
  {
   "cell_type": "markdown",
   "metadata": {},
   "source": [
    "We are using MultinomialNB (Multinomial Naive Bayes) as our algorthim of choice because it works really well with nlp classification. This is because it assumes that all features are independent of each other. So, this algorithm is very powerful for this type of classifcation."
   ]
  },
  {
   "cell_type": "code",
   "execution_count": 23,
   "metadata": {},
   "outputs": [],
   "source": [
    "# Creating a TFIDF Vectorizer Object \n",
    "tfidf_baseline = TfidfVectorizer(token_pattern=r\"([a-zA-Z]+(?:'[a-z]+)?)\",stop_words = og_stopwords)\n",
    "baseline_vectorized = tfidf_baseline.fit_transform(X_train)"
   ]
  },
  {
   "cell_type": "code",
   "execution_count": 24,
   "metadata": {},
   "outputs": [],
   "source": [
    "# Instantiating our baseline algorithm\n",
    "baseline_model = MultinomialNB()"
   ]
  },
  {
   "cell_type": "code",
   "execution_count": 25,
   "metadata": {},
   "outputs": [
    {
     "data": {
      "text/plain": [
       "0.8479438800193517"
      ]
     },
     "execution_count": 25,
     "metadata": {},
     "output_type": "execute_result"
    }
   ],
   "source": [
    "# Evaluate the classifier on baseline_vectorized and y_train\n",
    "baseline_cv = cross_val_score(baseline_model, baseline_vectorized, y_train)\n",
    "baseline_cv.mean()"
   ]
  },
  {
   "cell_type": "code",
   "execution_count": 26,
   "metadata": {},
   "outputs": [
    {
     "name": "stdout",
     "output_type": "stream",
     "text": [
      "0.8601947847942193\n"
     ]
    }
   ],
   "source": [
    "# Finding training accuracy score \n",
    "baseline_model.fit(baseline_vectorized,y_train)\n",
    "baseline_train_score = baseline_model.score(baseline_vectorized,y_train)\n",
    "print(baseline_train_score)"
   ]
  },
  {
   "cell_type": "code",
   "execution_count": 27,
   "metadata": {
    "scrolled": true
   },
   "outputs": [
    {
     "data": {
      "text/plain": [
       "0.11"
      ]
     },
     "execution_count": 27,
     "metadata": {},
     "output_type": "execute_result"
    }
   ],
   "source": [
    "# Evaluating recall metric\n",
    "y_pred_baseline = baseline_model.predict(baseline_vectorized)\n",
    "recall_score(y_train, y_pred_baseline)"
   ]
  },
  {
   "cell_type": "markdown",
   "metadata": {},
   "source": [
    "### Iteration 1: Decision Tree"
   ]
  },
  {
   "cell_type": "markdown",
   "metadata": {},
   "source": [
    "Next, we'll try a decision tree model to improve accuracy. A training accuracy score of 1 will indicate that although the model is very overfit, there isn't anything wonky with the data"
   ]
  },
  {
   "cell_type": "code",
   "execution_count": 28,
   "metadata": {},
   "outputs": [],
   "source": [
    "tfidf_1 = TfidfVectorizer(token_pattern = r\"([a-zA-Z]+(?:'[a-z]+)?)\",stop_words = og_stopwords)\n",
    "vectorized_1 = tfidf_1.fit_transform(X_train)"
   ]
  },
  {
   "cell_type": "code",
   "execution_count": 29,
   "metadata": {},
   "outputs": [],
   "source": [
    "# Instantiating our Decision Tree Classifier\n",
    "dt = DecisionTreeClassifier()"
   ]
  },
  {
   "cell_type": "code",
   "execution_count": 30,
   "metadata": {},
   "outputs": [
    {
     "data": {
      "text/plain": [
       "0.8397786400481818"
      ]
     },
     "execution_count": 30,
     "metadata": {},
     "output_type": "execute_result"
    }
   ],
   "source": [
    "# Evaluate the classifier on vectorized X_train and y_train\n",
    "cv1 = cross_val_score(dt,vectorized_1, y_train)\n",
    "cv1.mean()"
   ]
  },
  {
   "cell_type": "code",
   "execution_count": 31,
   "metadata": {},
   "outputs": [
    {
     "name": "stdout",
     "output_type": "stream",
     "text": [
      "0.9996858309770656\n"
     ]
    }
   ],
   "source": [
    "# finding training accuracy score \n",
    "dt.fit(vectorized_1,y_train)\n",
    "dt1_score = dt.score(vectorized_1,y_train)\n",
    "print(dt1_score)"
   ]
  },
  {
   "cell_type": "code",
   "execution_count": 32,
   "metadata": {},
   "outputs": [
    {
     "data": {
      "text/plain": [
       "0.11"
      ]
     },
     "execution_count": 32,
     "metadata": {},
     "output_type": "execute_result"
    }
   ],
   "source": [
    "# Evaluating recall score\n",
    "y_pred_dt = dt.predict(baseline_vectorized)\n",
    "recall_score(y_train, y_pred_baseline)"
   ]
  },
  {
   "cell_type": "markdown",
   "metadata": {},
   "source": [
    "## Iteration 2: Random Forest"
   ]
  },
  {
   "cell_type": "markdown",
   "metadata": {},
   "source": [
    "After a decision tree, we created a Random Forest model with minimal hyperparameters. Although we produced a lower accuracy score, we knew that a well tuned Random Forest model would give us a good result, hence deciding to stick with it in future iterations."
   ]
  },
  {
   "cell_type": "code",
   "execution_count": 33,
   "metadata": {},
   "outputs": [],
   "source": [
    "tfidf_2 = TfidfVectorizer(token_pattern = r\"([a-zA-Z]+(?:'[a-z]+)?)\",stop_words = og_stopwords)\n",
    "vectorized_2 = tfidf_2.fit_transform(X_train)"
   ]
  },
  {
   "cell_type": "code",
   "execution_count": 34,
   "metadata": {},
   "outputs": [],
   "source": [
    "# Instantiating a Random Forest Classifier Object\n",
    "rf = RandomForestClassifier()"
   ]
  },
  {
   "cell_type": "code",
   "execution_count": 35,
   "metadata": {},
   "outputs": [
    {
     "data": {
      "text/plain": [
       "0.8727649259994275"
      ]
     },
     "execution_count": 35,
     "metadata": {},
     "output_type": "execute_result"
    }
   ],
   "source": [
    "# Evaluate the random forest\n",
    "cv2 = cross_val_score(rf,vectorized_2, y_train)\n",
    "cv2.mean()"
   ]
  },
  {
   "cell_type": "code",
   "execution_count": 36,
   "metadata": {},
   "outputs": [
    {
     "name": "stdout",
     "output_type": "stream",
     "text": [
      "0.9996858309770656\n"
     ]
    }
   ],
   "source": [
    "# finding training accuracy  score \n",
    "rf.fit(vectorized_2,y_train)\n",
    "rf1_score = rf.score(vectorized_2,y_train)\n",
    "print(rf1_score)"
   ]
  },
  {
   "cell_type": "code",
   "execution_count": 37,
   "metadata": {},
   "outputs": [
    {
     "data": {
      "text/plain": [
       "0.998"
      ]
     },
     "execution_count": 37,
     "metadata": {},
     "output_type": "execute_result"
    }
   ],
   "source": [
    "#Evaluating recall\n",
    "y_pred_rf = rf.predict(vectorized_2)\n",
    "recall_score(y_train, y_pred_rf)"
   ]
  },
  {
   "cell_type": "markdown",
   "metadata": {},
   "source": [
    "## Iteration 3: Vectorizer "
   ]
  },
  {
   "cell_type": "markdown",
   "metadata": {},
   "source": [
    "For this iteration, we are looking at which tf-idf vectorizer parameters work best for our data. Think of it kind of like a grid search but for the vectorizer. We found that the best parameter for min_df is 5 and the best input for our ngram_range parameter is (1,2) (allowing unigrams and bigrams)."
   ]
  },
  {
   "cell_type": "raw",
   "metadata": {},
   "source": [
    "For this iteration, we will stick with the algorithm that gave us the highest score (random forest)."
   ]
  },
  {
   "cell_type": "code",
   "execution_count": 38,
   "metadata": {},
   "outputs": [],
   "source": [
    "tfidf_3 = TfidfVectorizer(token_pattern = r\"([a-zA-Z]+(?:'[a-z]+)?)\",\n",
    "                          stop_words = og_stopwords,\n",
    "                          ngram_range = (1,2),\n",
    "                          min_df= 5\n",
    "                         )\n",
    "vectorized_3 = tfidf_3.fit_transform(X_train)\n"
   ]
  },
  {
   "cell_type": "code",
   "execution_count": 39,
   "metadata": {},
   "outputs": [
    {
     "data": {
      "text/plain": [
       "0.8702516710602964"
      ]
     },
     "execution_count": 39,
     "metadata": {},
     "output_type": "execute_result"
    }
   ],
   "source": [
    "# Evaluate the random forest on vectorizer with best parameters\n",
    "cv3 = cross_val_score(rf,vectorized_3, y_train)\n",
    "cv3.mean()"
   ]
  },
  {
   "cell_type": "code",
   "execution_count": 40,
   "metadata": {},
   "outputs": [
    {
     "name": "stdout",
     "output_type": "stream",
     "text": [
      "0.9996858309770656\n"
     ]
    }
   ],
   "source": [
    "# finding training score \n",
    "rf.fit(vectorized_3, y_train)\n",
    "rf2_score = rf.score(vectorized_3, y_train)\n",
    "print(rf2_score)"
   ]
  },
  {
   "cell_type": "code",
   "execution_count": 41,
   "metadata": {},
   "outputs": [
    {
     "data": {
      "text/plain": [
       "0.998"
      ]
     },
     "execution_count": 41,
     "metadata": {},
     "output_type": "execute_result"
    }
   ],
   "source": [
    "# Evaluating recall score\n",
    "y_pred_rf2 = rf.predict(vectorized_3)\n",
    "recall_score(y_train, y_pred_rf2)"
   ]
  },
  {
   "cell_type": "markdown",
   "metadata": {},
   "source": [
    "## Iteration 4 - Random Forest"
   ]
  },
  {
   "cell_type": "markdown",
   "metadata": {},
   "source": [
    "For this iteration, we will do a grid search on the random forest hyperparameters to find the ones that yield the highest accuracy and recall scores."
   ]
  },
  {
   "cell_type": "code",
   "execution_count": 42,
   "metadata": {},
   "outputs": [],
   "source": [
    "tfidf_4 = TfidfVectorizer(token_pattern = r\"([a-zA-Z]+(?:'[a-z]+)?)\",\n",
    "                          stop_words = og_stopwords,\n",
    "                          ngram_range = (1,2),\n",
    "                          min_df= 5\n",
    "                         )\n",
    "vectorized_4 = tfidf_4.fit_transform(X_train)"
   ]
  },
  {
   "cell_type": "code",
   "execution_count": 43,
   "metadata": {},
   "outputs": [],
   "source": [
    "# grid search for random forest parameters\n",
    "grid_rf1 = {\"n_estimators\":[100, 200, 300],\n",
    "           \"criterion\": [\"gini\", \"entropy\", \"log_loss\"],\n",
    "           \"max_features\": [\"sqrt\", \"auto\"],\n",
    "           \"max_depth\" : [10,20,30,None],\n",
    "            \"min_samples_leaf\" : [1,2,4],\n",
    "            \"min_samples_split\": [2,5,10]\n",
    "            }\n",
    "GS_rf1 = GridSearchCV(\n",
    "    estimator=rf,\n",
    "    param_grid=grid_rf1,\n",
    "    verbose=2)"
   ]
  },
  {
   "cell_type": "markdown",
   "metadata": {},
   "source": [
    "We have commented out the gridsearch since it takes a while to run. To see results, simply uncomment and run the next three cells."
   ]
  },
  {
   "cell_type": "code",
   "execution_count": 44,
   "metadata": {},
   "outputs": [],
   "source": [
    "# GS_rf1.fit(vectorized_4,y_train)"
   ]
  },
  {
   "cell_type": "code",
   "execution_count": 45,
   "metadata": {
    "scrolled": false
   },
   "outputs": [],
   "source": [
    "# GS_rf1.best_params_"
   ]
  },
  {
   "cell_type": "markdown",
   "metadata": {},
   "source": [
    "{'criterion': 'gini',\n",
    "\n",
    "'max_depth': None,\n",
    "\n",
    "'max_features': 'auto',\n",
    "\n",
    "'min_samples_leaf': 1,\n",
    "\n",
    "'min_samples_split': 2,\n",
    "\n",
    "'n_estimators': 200}"
   ]
  },
  {
   "cell_type": "code",
   "execution_count": 46,
   "metadata": {
    "scrolled": true
   },
   "outputs": [],
   "source": [
    "# GS_rf1.best_score_"
   ]
  },
  {
   "cell_type": "markdown",
   "metadata": {},
   "source": [
    "0.8695299008634473"
   ]
  },
  {
   "cell_type": "markdown",
   "metadata": {},
   "source": [
    "Now, we are doing another grid search for the Random Forest Classifier."
   ]
  },
  {
   "cell_type": "code",
   "execution_count": 47,
   "metadata": {},
   "outputs": [],
   "source": [
    "# grid search for random forest parameters\n",
    "grid_rf2 = {\"n_estimators\":[150, 200, 250],\n",
    "           \"criterion\": [\"gini\"],\n",
    "           \"max_features\": [\"auto\"],\n",
    "           \"max_depth\" : [None],\n",
    "            \"min_samples_leaf\" : [1],\n",
    "            \"min_samples_split\": [1,2,3]\n",
    "            }\n",
    "GS_rf2 = GridSearchCV(\n",
    "    estimator=rf,\n",
    "    param_grid=grid_rf2,\n",
    "    n_jobs=-1,\n",
    "    verbose=2)"
   ]
  },
  {
   "cell_type": "code",
   "execution_count": 48,
   "metadata": {},
   "outputs": [
    {
     "name": "stdout",
     "output_type": "stream",
     "text": [
      "Fitting 5 folds for each of 9 candidates, totalling 45 fits\n"
     ]
    },
    {
     "name": "stderr",
     "output_type": "stream",
     "text": [
      "[Parallel(n_jobs=-1)]: Using backend LokyBackend with 12 concurrent workers.\n",
      "[Parallel(n_jobs=-1)]: Done  17 tasks      | elapsed:    4.5s\n",
      "[Parallel(n_jobs=-1)]: Done  45 out of  45 | elapsed:   10.0s remaining:    0.0s\n",
      "[Parallel(n_jobs=-1)]: Done  45 out of  45 | elapsed:   10.0s finished\n"
     ]
    },
    {
     "data": {
      "text/plain": [
       "GridSearchCV(estimator=RandomForestClassifier(), n_jobs=-1,\n",
       "             param_grid={'criterion': ['gini'], 'max_depth': [None],\n",
       "                         'max_features': ['auto'], 'min_samples_leaf': [1],\n",
       "                         'min_samples_split': [1, 2, 3],\n",
       "                         'n_estimators': [150, 200, 250]},\n",
       "             verbose=2)"
      ]
     },
     "execution_count": 48,
     "metadata": {},
     "output_type": "execute_result"
    }
   ],
   "source": [
    "GS_rf2.fit(vectorized_4,y_train)"
   ]
  },
  {
   "cell_type": "code",
   "execution_count": 49,
   "metadata": {},
   "outputs": [
    {
     "data": {
      "text/plain": [
       "{'criterion': 'gini',\n",
       " 'max_depth': None,\n",
       " 'max_features': 'auto',\n",
       " 'min_samples_leaf': 1,\n",
       " 'min_samples_split': 2,\n",
       " 'n_estimators': 200}"
      ]
     },
     "execution_count": 49,
     "metadata": {},
     "output_type": "execute_result"
    }
   ],
   "source": [
    "GS_rf2.best_params_"
   ]
  },
  {
   "cell_type": "code",
   "execution_count": 50,
   "metadata": {},
   "outputs": [
    {
     "data": {
      "text/plain": [
       "0.8715065706979453"
      ]
     },
     "execution_count": 50,
     "metadata": {},
     "output_type": "execute_result"
    }
   ],
   "source": [
    "GS_rf2.best_score_"
   ]
  },
  {
   "cell_type": "markdown",
   "metadata": {},
   "source": [
    "Again, we are continuning the random forest grid searches to get the best possible parameters."
   ]
  },
  {
   "cell_type": "code",
   "execution_count": 51,
   "metadata": {},
   "outputs": [],
   "source": [
    "# grid search for random forest parameters\n",
    "grid_rf3 = {\"n_estimators\":[175, 200, 225],\n",
    "           \"criterion\": [\"gini\"],\n",
    "           \"max_features\": [\"auto\"],\n",
    "           \"max_depth\" : [None],\n",
    "            \"min_samples_leaf\" : [1],\n",
    "            \"min_samples_split\": [3,4,5]\n",
    "            }\n",
    "GS_rf3 = GridSearchCV(\n",
    "    estimator=rf,\n",
    "    param_grid=grid_rf3,\n",
    "    n_jobs=-1,\n",
    "    verbose=2)"
   ]
  },
  {
   "cell_type": "code",
   "execution_count": 52,
   "metadata": {},
   "outputs": [
    {
     "name": "stdout",
     "output_type": "stream",
     "text": [
      "Fitting 5 folds for each of 9 candidates, totalling 45 fits\n"
     ]
    },
    {
     "name": "stderr",
     "output_type": "stream",
     "text": [
      "[Parallel(n_jobs=-1)]: Using backend LokyBackend with 12 concurrent workers.\n",
      "[Parallel(n_jobs=-1)]: Done  17 tasks      | elapsed:    5.3s\n",
      "[Parallel(n_jobs=-1)]: Done  45 out of  45 | elapsed:   10.7s remaining:    0.0s\n",
      "[Parallel(n_jobs=-1)]: Done  45 out of  45 | elapsed:   10.7s finished\n"
     ]
    },
    {
     "data": {
      "text/plain": [
       "GridSearchCV(estimator=RandomForestClassifier(), n_jobs=-1,\n",
       "             param_grid={'criterion': ['gini'], 'max_depth': [None],\n",
       "                         'max_features': ['auto'], 'min_samples_leaf': [1],\n",
       "                         'min_samples_split': [3, 4, 5],\n",
       "                         'n_estimators': [175, 200, 225]},\n",
       "             verbose=2)"
      ]
     },
     "execution_count": 52,
     "metadata": {},
     "output_type": "execute_result"
    }
   ],
   "source": [
    "GS_rf3.fit(vectorized_4,y_train)"
   ]
  },
  {
   "cell_type": "code",
   "execution_count": 53,
   "metadata": {
    "scrolled": true
   },
   "outputs": [
    {
     "data": {
      "text/plain": [
       "{'criterion': 'gini',\n",
       " 'max_depth': None,\n",
       " 'max_features': 'auto',\n",
       " 'min_samples_leaf': 1,\n",
       " 'min_samples_split': 4,\n",
       " 'n_estimators': 225}"
      ]
     },
     "execution_count": 53,
     "metadata": {},
     "output_type": "execute_result"
    }
   ],
   "source": [
    "GS_rf3.best_params_"
   ]
  },
  {
   "cell_type": "code",
   "execution_count": 54,
   "metadata": {},
   "outputs": [
    {
     "data": {
      "text/plain": [
       "0.872448485925575"
      ]
     },
     "execution_count": 54,
     "metadata": {},
     "output_type": "execute_result"
    }
   ],
   "source": [
    "GS_rf3.best_score_"
   ]
  },
  {
   "cell_type": "code",
   "execution_count": 55,
   "metadata": {},
   "outputs": [],
   "source": [
    "rf3 = RandomForestClassifier(n_estimators=225,\n",
    "                             criterion=\"gini\",\n",
    "                             max_depth=None,\n",
    "                             min_samples_split=3,\n",
    "                             min_samples_leaf=1,\n",
    "                             max_features=\"auto\")"
   ]
  },
  {
   "cell_type": "code",
   "execution_count": 56,
   "metadata": {},
   "outputs": [
    {
     "data": {
      "text/plain": [
       "0.8702487090627251"
      ]
     },
     "execution_count": 56,
     "metadata": {},
     "output_type": "execute_result"
    }
   ],
   "source": [
    "# Evaluate the random forest\n",
    "cv4 = cross_val_score(rf3, vectorized_4, y_train)\n",
    "cv4.mean()"
   ]
  },
  {
   "cell_type": "code",
   "execution_count": 57,
   "metadata": {
    "scrolled": true
   },
   "outputs": [
    {
     "name": "stdout",
     "output_type": "stream",
     "text": [
      "0.9993716619541313\n"
     ]
    }
   ],
   "source": [
    "# finding training score \n",
    "rf3.fit(vectorized_4, y_train)\n",
    "rf3_score = rf3.score(vectorized_4, y_train)\n",
    "print(rf3_score)"
   ]
  },
  {
   "cell_type": "code",
   "execution_count": 58,
   "metadata": {},
   "outputs": [
    {
     "data": {
      "text/plain": [
       "0.996"
      ]
     },
     "execution_count": 58,
     "metadata": {},
     "output_type": "execute_result"
    }
   ],
   "source": [
    "#Evaluating recall\n",
    "y_pred_rf3 = rf3.predict(vectorized_4)\n",
    "recall_score(y_train, y_pred_rf3)"
   ]
  },
  {
   "cell_type": "markdown",
   "metadata": {},
   "source": [
    "After three grid searches, we seem to have found the most optimal hyperparameter values for our chosen hyperparameters. Our recall score has increased, although only slighlty from our baseline model, and we have a very high accuracy and recall score on our training data, signifying that our model is very overfit. With that awareness, we can later try to tweak the vectorizer's paramaters to reduce complexity and possibly reduce overfitting."
   ]
  },
  {
   "cell_type": "markdown",
   "metadata": {},
   "source": [
    "## Incorporating Additional Stopwords"
   ]
  },
  {
   "cell_type": "markdown",
   "metadata": {},
   "source": [
    "Although we removed common english stopwords, there are additional stopwords specific to this data that we will want to remove to attempt to increase our models performance. To do this, we want to first compare the words from both the positie and negative sentiment lists that have high tf-idf scores and see if there is any overlap. If shared words are not useful in evaluating sentiment, we will remove them. Note that we are only looking at the top 10 words for each list and removing stricly from there - removing too many words can lead to a less robust model."
   ]
  },
  {
   "cell_type": "code",
   "execution_count": 59,
   "metadata": {},
   "outputs": [],
   "source": [
    "# Create dataframes for positive and negative words\n",
    "word_eval = pd.concat([X_train, y_train], axis=1)\n",
    "word_eval_pos = word_eval.loc[word_eval[\"emotion_label\"] == 0]\n",
    "word_eval_neg = word_eval.loc[word_eval[\"emotion_label\"] == 1]"
   ]
  },
  {
   "cell_type": "markdown",
   "metadata": {},
   "source": [
    "### Positive Words"
   ]
  },
  {
   "cell_type": "code",
   "execution_count": 60,
   "metadata": {},
   "outputs": [],
   "source": [
    "# Create a top 10 words for positive sentiment\n",
    "tfidf_pos = TfidfVectorizer(token_pattern = r\"([a-zA-Z]+(?:'[a-z]+)?)\",\n",
    "                          stop_words = og_stopwords,\n",
    "                          ngram_range = (1,2), min_df=5)\n",
    "\n",
    "pos_vec = tfidf_pos.fit_transform(word_eval_pos[\"tweet\"])\n",
    "\n",
    "pos_matrix = pd.DataFrame.sparse.from_spmatrix(pos_vec, columns=tfidf_pos.get_feature_names())\n",
    "\n",
    "pos_words_sorted = list(pos_matrix.mean(axis=0).sort_values(ascending=False).head(10).index)"
   ]
  },
  {
   "cell_type": "markdown",
   "metadata": {},
   "source": [
    "### Negative Words"
   ]
  },
  {
   "cell_type": "code",
   "execution_count": 61,
   "metadata": {},
   "outputs": [],
   "source": [
    "# Create a top 10 words for positive sentiment\n",
    "tfidf_neg = TfidfVectorizer(token_pattern = r\"([a-zA-Z]+(?:'[a-z]+)?)\",\n",
    "                          stop_words = og_stopwords,\n",
    "                          ngram_range = (1,2), min_df=5)\n",
    "\n",
    "neg_vec = tfidf_neg.fit_transform(word_eval_neg[\"tweet\"])\n",
    "\n",
    "neg_matrix = pd.DataFrame.sparse.from_spmatrix(neg_vec, columns=tfidf_neg.get_feature_names())\n",
    "\n",
    "neg_words_sorted = list(neg_matrix.mean(axis=0).sort_values(ascending=False).head(10).index)"
   ]
  },
  {
   "cell_type": "markdown",
   "metadata": {},
   "source": [
    "### Shared Words"
   ]
  },
  {
   "cell_type": "code",
   "execution_count": 62,
   "metadata": {},
   "outputs": [
    {
     "data": {
      "text/plain": [
       "['mention',\n",
       " 'sxsw',\n",
       " 'ipad',\n",
       " 'link',\n",
       " 'apple',\n",
       " 'rt',\n",
       " 'rt mention',\n",
       " 'google',\n",
       " 'iphone',\n",
       " 'store']"
      ]
     },
     "execution_count": 62,
     "metadata": {},
     "output_type": "execute_result"
    }
   ],
   "source": [
    "# Evaluate shared words and drop as needed\n",
    "pos_words_sorted"
   ]
  },
  {
   "cell_type": "code",
   "execution_count": 63,
   "metadata": {},
   "outputs": [
    {
     "data": {
      "text/plain": [
       "['sxsw',\n",
       " 'mention',\n",
       " 'iphone',\n",
       " 'ipad',\n",
       " 'quot',\n",
       " 'google',\n",
       " 'apple',\n",
       " 'rt mention',\n",
       " 'rt',\n",
       " 'link']"
      ]
     },
     "execution_count": 63,
     "metadata": {},
     "output_type": "execute_result"
    }
   ],
   "source": [
    "neg_words_sorted"
   ]
  },
  {
   "cell_type": "code",
   "execution_count": 64,
   "metadata": {},
   "outputs": [
    {
     "data": {
      "text/plain": [
       "['mention',\n",
       " 'sxsw',\n",
       " 'ipad',\n",
       " 'link',\n",
       " 'apple',\n",
       " 'rt',\n",
       " 'rt mention',\n",
       " 'google',\n",
       " 'iphone']"
      ]
     },
     "execution_count": 64,
     "metadata": {},
     "output_type": "execute_result"
    }
   ],
   "source": [
    "shared_words = [word for word in pos_words_sorted if word in neg_words_sorted]\n",
    "shared_words"
   ]
  },
  {
   "cell_type": "code",
   "execution_count": 65,
   "metadata": {},
   "outputs": [],
   "source": [
    "# Drop the following words after evaluation\n",
    "updated_stopwords = og_stopwords.copy()\n",
    "updated_stopwords.extend(['sxsw', 'mention', 'link', 'apple', 'google', 'quot', 'rt', 'rt mention'])"
   ]
  },
  {
   "cell_type": "markdown",
   "metadata": {},
   "source": [
    "## Iteration 5 - Random Forest with updated stopwords"
   ]
  },
  {
   "cell_type": "markdown",
   "metadata": {},
   "source": [
    "Let's use this newly updated stopwords list and see if it has improved our score."
   ]
  },
  {
   "cell_type": "code",
   "execution_count": 66,
   "metadata": {},
   "outputs": [],
   "source": [
    "tfidf_5 = TfidfVectorizer(token_pattern = r\"([a-zA-Z]+(?:'[a-z]+)?)\",\n",
    "                          stop_words = updated_stopwords,\n",
    "                          ngram_range = (1,2),\n",
    "                          min_df= 5)\n",
    "\n",
    "vectorized_5 = tfidf_5.fit_transform(X_train)"
   ]
  },
  {
   "cell_type": "code",
   "execution_count": 67,
   "metadata": {},
   "outputs": [],
   "source": [
    "rf5 = RandomForestClassifier(n_estimators=225,\n",
    "                             criterion=\"gini\",\n",
    "                             max_depth=None,\n",
    "                             min_samples_split=3,\n",
    "                             min_samples_leaf=1,\n",
    "                             max_features=\"auto\")"
   ]
  },
  {
   "cell_type": "code",
   "execution_count": 68,
   "metadata": {},
   "outputs": [
    {
     "data": {
      "text/plain": [
       "0.8696227402426864"
      ]
     },
     "execution_count": 68,
     "metadata": {},
     "output_type": "execute_result"
    }
   ],
   "source": [
    "# Evaluate the random forest\n",
    "cv5 = cross_val_score(rf5, vectorized_5, y_train)\n",
    "cv5.mean()"
   ]
  },
  {
   "cell_type": "code",
   "execution_count": 69,
   "metadata": {
    "scrolled": true
   },
   "outputs": [
    {
     "name": "stdout",
     "output_type": "stream",
     "text": [
      "0.9956016336789193\n"
     ]
    }
   ],
   "source": [
    "# finding training score \n",
    "rf5.fit(vectorized_5, y_train)\n",
    "rf5_score = rf5.score(vectorized_5, y_train)\n",
    "print(rf5_score)"
   ]
  },
  {
   "cell_type": "code",
   "execution_count": 70,
   "metadata": {},
   "outputs": [
    {
     "data": {
      "text/plain": [
       "0.978"
      ]
     },
     "execution_count": 70,
     "metadata": {},
     "output_type": "execute_result"
    }
   ],
   "source": [
    "# Evaluating recall\n",
    "y_pred_rf5 = rf5.predict(vectorized_5)\n",
    "recall_score(y_train, y_pred_rf5)"
   ]
  },
  {
   "cell_type": "markdown",
   "metadata": {},
   "source": [
    "As shown, it has slighly increased our cross val accuracy score."
   ]
  },
  {
   "cell_type": "markdown",
   "metadata": {},
   "source": [
    "## Iteration 6 - Random Forest max_depth adjustments"
   ]
  },
  {
   "cell_type": "markdown",
   "metadata": {},
   "source": [
    "For our last effort at increasing our accuracy score, we want to adjust the max_depth hyperparameter to reduce overfitting and see if that helps."
   ]
  },
  {
   "cell_type": "code",
   "execution_count": 71,
   "metadata": {
    "scrolled": true
   },
   "outputs": [
    {
     "data": {
      "text/plain": [
       "[252,\n",
       " 243,\n",
       " 258,\n",
       " 256,\n",
       " 254,\n",
       " 273,\n",
       " 258,\n",
       " 231,\n",
       " 265,\n",
       " 227,\n",
       " 236,\n",
       " 260,\n",
       " 245,\n",
       " 224,\n",
       " 227,\n",
       " 262,\n",
       " 236,\n",
       " 233,\n",
       " 231,\n",
       " 254,\n",
       " 256,\n",
       " 274,\n",
       " 250,\n",
       " 239,\n",
       " 272,\n",
       " 210,\n",
       " 284,\n",
       " 263,\n",
       " 245,\n",
       " 250,\n",
       " 247,\n",
       " 262,\n",
       " 244,\n",
       " 241,\n",
       " 158,\n",
       " 139,\n",
       " 169,\n",
       " 246,\n",
       " 262,\n",
       " 244,\n",
       " 233,\n",
       " 237,\n",
       " 256,\n",
       " 263,\n",
       " 217,\n",
       " 258,\n",
       " 222,\n",
       " 249,\n",
       " 168,\n",
       " 240,\n",
       " 262,\n",
       " 278,\n",
       " 260,\n",
       " 220,\n",
       " 217,\n",
       " 248,\n",
       " 277,\n",
       " 274,\n",
       " 267,\n",
       " 287,\n",
       " 266,\n",
       " 294,\n",
       " 224,\n",
       " 215,\n",
       " 250,\n",
       " 283,\n",
       " 248,\n",
       " 251,\n",
       " 247,\n",
       " 246,\n",
       " 262,\n",
       " 150,\n",
       " 216,\n",
       " 283,\n",
       " 266,\n",
       " 256,\n",
       " 257,\n",
       " 171,\n",
       " 240,\n",
       " 209,\n",
       " 268,\n",
       " 222,\n",
       " 241,\n",
       " 209,\n",
       " 263,\n",
       " 241,\n",
       " 233,\n",
       " 239,\n",
       " 178,\n",
       " 246,\n",
       " 233,\n",
       " 254,\n",
       " 266,\n",
       " 236,\n",
       " 281,\n",
       " 261,\n",
       " 255,\n",
       " 192,\n",
       " 265,\n",
       " 233,\n",
       " 158,\n",
       " 250,\n",
       " 241,\n",
       " 268,\n",
       " 255,\n",
       " 213,\n",
       " 233,\n",
       " 240,\n",
       " 124,\n",
       " 297,\n",
       " 260,\n",
       " 229,\n",
       " 161,\n",
       " 186,\n",
       " 250,\n",
       " 244,\n",
       " 223,\n",
       " 268,\n",
       " 243,\n",
       " 231,\n",
       " 220,\n",
       " 284,\n",
       " 267,\n",
       " 230,\n",
       " 246,\n",
       " 223,\n",
       " 224,\n",
       " 256,\n",
       " 261,\n",
       " 264,\n",
       " 244,\n",
       " 256,\n",
       " 226,\n",
       " 285,\n",
       " 164,\n",
       " 290,\n",
       " 223,\n",
       " 203,\n",
       " 162,\n",
       " 155,\n",
       " 227,\n",
       " 219,\n",
       " 253,\n",
       " 176,\n",
       " 196,\n",
       " 247,\n",
       " 249,\n",
       " 229,\n",
       " 261,\n",
       " 261,\n",
       " 247,\n",
       " 237,\n",
       " 267,\n",
       " 222,\n",
       " 233,\n",
       " 202,\n",
       " 268,\n",
       " 231,\n",
       " 238,\n",
       " 253,\n",
       " 172,\n",
       " 289,\n",
       " 241,\n",
       " 221,\n",
       " 230,\n",
       " 262,\n",
       " 272,\n",
       " 220,\n",
       " 164,\n",
       " 264,\n",
       " 223,\n",
       " 238,\n",
       " 219,\n",
       " 259,\n",
       " 223,\n",
       " 289,\n",
       " 249,\n",
       " 209,\n",
       " 252,\n",
       " 257,\n",
       " 245,\n",
       " 237,\n",
       " 216,\n",
       " 261,\n",
       " 246,\n",
       " 128,\n",
       " 255,\n",
       " 190,\n",
       " 274,\n",
       " 278,\n",
       " 264,\n",
       " 231,\n",
       " 234,\n",
       " 245,\n",
       " 223,\n",
       " 253,\n",
       " 157,\n",
       " 250,\n",
       " 258,\n",
       " 198,\n",
       " 194,\n",
       " 223,\n",
       " 241,\n",
       " 247,\n",
       " 224,\n",
       " 245,\n",
       " 269,\n",
       " 236,\n",
       " 238,\n",
       " 249,\n",
       " 226,\n",
       " 258,\n",
       " 257,\n",
       " 261,\n",
       " 275,\n",
       " 249,\n",
       " 245,\n",
       " 257,\n",
       " 262,\n",
       " 159,\n",
       " 233,\n",
       " 245,\n",
       " 239,\n",
       " 225,\n",
       " 270]"
      ]
     },
     "execution_count": 71,
     "metadata": {},
     "output_type": "execute_result"
    }
   ],
   "source": [
    "# Check max_depths of current random forest\n",
    "[estimator.tree_.max_depth for estimator in rf5.estimators_]"
   ]
  },
  {
   "cell_type": "code",
   "execution_count": 72,
   "metadata": {},
   "outputs": [],
   "source": [
    "# grid search for random forest parameters\n",
    "grid_rf4 = {\"n_estimators\":[225],\n",
    "           \"criterion\": [\"gini\"],\n",
    "           \"max_features\": [\"auto\"],\n",
    "           \"max_depth\" : [50,100,150,200],\n",
    "            \"min_samples_leaf\" : [1],\n",
    "            \"min_samples_split\": [3]\n",
    "            }\n",
    "GS_rf4 = GridSearchCV(\n",
    "    estimator=rf,\n",
    "    param_grid=grid_rf4,\n",
    "    n_jobs=-1,\n",
    "    verbose=2,\n",
    "    scoring='recall')"
   ]
  },
  {
   "cell_type": "code",
   "execution_count": 73,
   "metadata": {},
   "outputs": [],
   "source": [
    "tfidf_6 = TfidfVectorizer(token_pattern = r\"([a-zA-Z]+(?:'[a-z]+)?)\",\n",
    "                          stop_words = updated_stopwords,\n",
    "                          ngram_range = (1,2),\n",
    "                          min_df= 5,\n",
    "                         )\n",
    "vectorized_6 = tfidf_6.fit_transform(X_train)"
   ]
  },
  {
   "cell_type": "code",
   "execution_count": 74,
   "metadata": {},
   "outputs": [],
   "source": [
    "#GS_rf4.fit(vectorized_6, y_train)"
   ]
  },
  {
   "cell_type": "code",
   "execution_count": 75,
   "metadata": {
    "scrolled": true
   },
   "outputs": [],
   "source": [
    "#GS_rf4.best_params_"
   ]
  },
  {
   "cell_type": "code",
   "execution_count": 76,
   "metadata": {},
   "outputs": [],
   "source": [
    "#GS_rf4.best_score_"
   ]
  },
  {
   "cell_type": "markdown",
   "metadata": {},
   "source": [
    "### Run Final Model on Test Set"
   ]
  },
  {
   "cell_type": "markdown",
   "metadata": {},
   "source": [
    "With little option and time to improve, we settled on our final model and will now run it on unseen data."
   ]
  },
  {
   "cell_type": "code",
   "execution_count": 77,
   "metadata": {},
   "outputs": [],
   "source": [
    "# Transform X_test\n",
    "test_vec = tfidf_5.transform(X_test)"
   ]
  },
  {
   "cell_type": "code",
   "execution_count": 78,
   "metadata": {},
   "outputs": [
    {
     "data": {
      "text/plain": [
       "0.4492753623188406"
      ]
     },
     "execution_count": 78,
     "metadata": {},
     "output_type": "execute_result"
    }
   ],
   "source": [
    "# Evaluating recall\n",
    "test_pred = rf5.predict(test_vec)\n",
    "recall_score(y_test, test_pred)"
   ]
  },
  {
   "cell_type": "code",
   "execution_count": 79,
   "metadata": {},
   "outputs": [
    {
     "data": {
      "text/plain": [
       "0.8615819209039548"
      ]
     },
     "execution_count": 79,
     "metadata": {},
     "output_type": "execute_result"
    }
   ],
   "source": [
    "# Evaluate accuracy score\n",
    "accuracy_score(y_test, test_pred)"
   ]
  },
  {
   "cell_type": "code",
   "execution_count": 80,
   "metadata": {},
   "outputs": [
    {
     "data": {
      "text/plain": [
       "0.7380952380952381"
      ]
     },
     "execution_count": 80,
     "metadata": {},
     "output_type": "execute_result"
    }
   ],
   "source": [
    "# Evaluate precision score\n",
    "precision_score(y_test, test_pred)"
   ]
  },
  {
   "cell_type": "markdown",
   "metadata": {},
   "source": [
    "*insert little blurb about final model*"
   ]
  },
  {
   "cell_type": "markdown",
   "metadata": {},
   "source": [
    "# Model Visualization"
   ]
  },
  {
   "cell_type": "markdown",
   "metadata": {},
   "source": [
    "### Word Importance Bar Graph"
   ]
  },
  {
   "cell_type": "code",
   "execution_count": 81,
   "metadata": {},
   "outputs": [],
   "source": [
    "vectorized_5 = tfidf_5.fit_transform(X_train)"
   ]
  },
  {
   "cell_type": "code",
   "execution_count": 82,
   "metadata": {},
   "outputs": [],
   "source": [
    "final_s_matrix= pd.DataFrame.sparse.from_spmatrix(vectorized_5, columns=tfidf_5.get_feature_names())"
   ]
  },
  {
   "cell_type": "code",
   "execution_count": 83,
   "metadata": {},
   "outputs": [],
   "source": [
    "final_10_words = final_s_matrix.mean(axis=0).sort_values(ascending=False).head(5)"
   ]
  },
  {
   "cell_type": "code",
   "execution_count": 84,
   "metadata": {},
   "outputs": [],
   "source": [
    "final_10_df = final_10_words.to_frame()"
   ]
  },
  {
   "cell_type": "code",
   "execution_count": 85,
   "metadata": {},
   "outputs": [],
   "source": [
    "final_10_df = final_10_df.reset_index()"
   ]
  },
  {
   "cell_type": "code",
   "execution_count": 86,
   "metadata": {},
   "outputs": [],
   "source": [
    "final_10_df.rename(columns={\"index\": \"word\", 0: \"tfidf_score\"},inplace=True)"
   ]
  },
  {
   "cell_type": "code",
   "execution_count": 87,
   "metadata": {},
   "outputs": [
    {
     "data": {
      "text/html": [
       "<div>\n",
       "<style scoped>\n",
       "    .dataframe tbody tr th:only-of-type {\n",
       "        vertical-align: middle;\n",
       "    }\n",
       "\n",
       "    .dataframe tbody tr th {\n",
       "        vertical-align: top;\n",
       "    }\n",
       "\n",
       "    .dataframe thead th {\n",
       "        text-align: right;\n",
       "    }\n",
       "</style>\n",
       "<table border=\"1\" class=\"dataframe\">\n",
       "  <thead>\n",
       "    <tr style=\"text-align: right;\">\n",
       "      <th></th>\n",
       "      <th>word</th>\n",
       "      <th>tfidf_score</th>\n",
       "    </tr>\n",
       "  </thead>\n",
       "  <tbody>\n",
       "    <tr>\n",
       "      <th>0</th>\n",
       "      <td>ipad</td>\n",
       "      <td>0.053848</td>\n",
       "    </tr>\n",
       "    <tr>\n",
       "      <th>1</th>\n",
       "      <td>iphone</td>\n",
       "      <td>0.035676</td>\n",
       "    </tr>\n",
       "    <tr>\n",
       "      <th>2</th>\n",
       "      <td>store</td>\n",
       "      <td>0.031488</td>\n",
       "    </tr>\n",
       "    <tr>\n",
       "      <th>3</th>\n",
       "      <td>app</td>\n",
       "      <td>0.026104</td>\n",
       "    </tr>\n",
       "    <tr>\n",
       "      <th>4</th>\n",
       "      <td>new</td>\n",
       "      <td>0.020917</td>\n",
       "    </tr>\n",
       "  </tbody>\n",
       "</table>\n",
       "</div>"
      ],
      "text/plain": [
       "     word  tfidf_score\n",
       "0    ipad     0.053848\n",
       "1  iphone     0.035676\n",
       "2   store     0.031488\n",
       "3     app     0.026104\n",
       "4     new     0.020917"
      ]
     },
     "execution_count": 87,
     "metadata": {},
     "output_type": "execute_result"
    }
   ],
   "source": [
    "final_10_df"
   ]
  },
  {
   "cell_type": "code",
   "execution_count": 89,
   "metadata": {
    "scrolled": false
   },
   "outputs": [
    {
     "data": {
      "image/png": "[encoded data removed]",
      "text/plain": [
       "<Figure size 1440x720 with 1 Axes>"
      ]
     },
     "metadata": {
      "needs_background": "light"
     },
     "output_type": "display_data"
    }
   ],
   "source": [
    "# Visualize word Importance\n",
    "\n",
    "# Create variables for chart\n",
    "important_words_x = final_10_df['word']\n",
    "words = final_10_df['tfidf_score']\n",
    "\n",
    "c = ['deepskyblue', 'deepskyblue','deepskyblue', 'deepskyblue',\n",
    "     'deepskyblue']\n",
    "\n",
    "# Change font family\n",
    "#plt.rcParams.update({'font.family':'Gill Sans'})\n",
    "\n",
    "# Create bar chart\n",
    "fig, ax = plt.subplots(figsize = (20,10))\n",
    "bars = ax.bar(x = important_words_x, height = words,color= c)\n",
    "ax.set_xlabel('Word', fontsize=27, labelpad=20) \n",
    "ax.set_ylabel('TF-IDF Score', fontsize=27, labelpad=25)\n",
    "ax.set_title('Most Important Words to Model', fontsize=30, pad=15)\n",
    "ax.tick_params(axis='y', labelsize=18)\n",
    "#ax.set_yticks(fontsize=12)\n",
    "ax.set_ylim(0, 0.060, 0.005)\n",
    "ax.set_xticks(important_words_x)\n",
    "ax.set_xticklabels(important_words_x, fontsize=20, rotation=45)\n",
    "#labels = list(colors.keys())\n",
    "#handles = [plt.Rectangle((0,0),1,1, color=colors[label]) for label in labels]\n",
    "plt.savefig('./visuals/Final_Model_Top_10_Words_Transparent.png', bbox_inches='tight',transparent=True);\n",
    "\n"
   ]
  },
  {
   "cell_type": "code",
   "execution_count": 92,
   "metadata": {
    "scrolled": false
   },
   "outputs": [
    {
     "data": {
      "image/png": "[encoded data removed]",
      "text/plain": [
       "<Figure size 1440x720 with 1 Axes>"
      ]
     },
     "metadata": {
      "needs_background": "light"
     },
     "output_type": "display_data"
    }
   ],
   "source": [
    "# Visualize word Importance\n",
    "\n",
    "# Create variables for chart\n",
    "important_words_x = final_10_df['word']\n",
    "words = final_10_df['tfidf_score']\n",
    "\n",
    "c = ['deepskyblue', 'deepskyblue','deepskyblue', 'deepskyblue',\n",
    "     'deepskyblue']\n",
    "\n",
    "# Change font family\n",
    "#plt.rcParams.update({'font.family':'Gill Sans'})\n",
    "\n",
    "# Create bar chart\n",
    "fig, ax = plt.subplots(figsize = (20,10))\n",
    "bars = ax.bar(x = important_words_x, height = words,color= c)\n",
    "ax.set_xlabel('Word', fontsize=27, labelpad=20) \n",
    "ax.set_ylabel('TF-IDF Score', fontsize=27, labelpad=25)\n",
    "ax.set_title('Most Important Words to Model', fontsize=30, pad=15)\n",
    "ax.tick_params(axis='y', labelsize=18)\n",
    "#ax.set_yticks(fontsize=12)\n",
    "ax.set_ylim(0, 0.060, 0.005)\n",
    "ax.set_xticks(important_words_x)\n",
    "ax.set_xticklabels(important_words_x, fontsize=20, rotation=45)\n",
    "#labels = list(colors.keys())\n",
    "#handles = [plt.Rectangle((0,0),1,1, color=colors[label]) for label in labels]\n",
    "plt.savefig('./visuals/Final_Model_Top_10_Words_Transparent.png', bbox_inches='tight',transparent=True);\n",
    "\n"
   ]
  },
  {
   "cell_type": "markdown",
   "metadata": {},
   "source": [
    "### Recreate Positive and Negative Lists for WordCloud"
   ]
  },
  {
   "cell_type": "markdown",
   "metadata": {},
   "source": [
    "#### Positive Words"
   ]
  },
  {
   "cell_type": "code",
   "execution_count": 93,
   "metadata": {},
   "outputs": [],
   "source": [
    "tfidf_pos_2 = TfidfVectorizer(token_pattern = r\"([a-zA-Z]+(?:'[a-z]+)?)\",\n",
    "                          stop_words = updated_stopwords,\n",
    "                          ngram_range = (1,2), \n",
    "                          min_df=5)\n",
    "\n",
    "pos_vec_2 = tfidf_pos_2.fit_transform(word_eval_pos[\"tweet\"])\n",
    "\n",
    "pos_matrix_2 = pd.DataFrame.sparse.from_spmatrix(pos_vec_2, columns=tfidf_pos_2.get_feature_names())\n",
    "\n",
    "pos_words_sorted_2 = list(pos_matrix_2.mean(axis=0).sort_values(ascending=False).index)"
   ]
  },
  {
   "cell_type": "code",
   "execution_count": 94,
   "metadata": {
    "scrolled": false
   },
   "outputs": [],
   "source": [
    "# pos_words_sorted_2"
   ]
  },
  {
   "cell_type": "markdown",
   "metadata": {},
   "source": [
    "#### Negative Words"
   ]
  },
  {
   "cell_type": "code",
   "execution_count": 95,
   "metadata": {},
   "outputs": [],
   "source": [
    "tfidf_neg_2 = TfidfVectorizer(token_pattern = r\"([a-zA-Z]+(?:'[a-z]+)?)\",\n",
    "                          stop_words = updated_stopwords,\n",
    "                          ngram_range = (1,2), \n",
    "                          min_df=5)\n",
    "\n",
    "neg_vec_2 = tfidf_neg_2.fit_transform(word_eval_neg[\"tweet\"])\n",
    "\n",
    "neg_matrix_2 = pd.DataFrame.sparse.from_spmatrix(neg_vec_2, columns=tfidf_neg_2.get_feature_names())\n",
    "\n",
    "neg_words_sorted_2 = list(neg_matrix_2.mean(axis=0).sort_values(ascending=False).index)"
   ]
  },
  {
   "cell_type": "code",
   "execution_count": 96,
   "metadata": {},
   "outputs": [],
   "source": [
    "# neg_words_sorted_2"
   ]
  },
  {
   "cell_type": "markdown",
   "metadata": {},
   "source": [
    "### Wordcloud"
   ]
  },
  {
   "cell_type": "code",
   "execution_count": 97,
   "metadata": {},
   "outputs": [
    {
     "name": "stdout",
     "output_type": "stream",
     "text": [
      "Requirement already satisfied: wordcloud in /Users/dermotobrien/opt/anaconda3/envs/learn-env/lib/python3.8/site-packages (1.8.2.2)\n",
      "Requirement already satisfied: numpy>=1.6.1 in /Users/dermotobrien/opt/anaconda3/envs/learn-env/lib/python3.8/site-packages (from wordcloud) (1.18.5)\n",
      "Requirement already satisfied: matplotlib in /Users/dermotobrien/opt/anaconda3/envs/learn-env/lib/python3.8/site-packages (from wordcloud) (3.3.1)\n",
      "Requirement already satisfied: pillow in /Users/dermotobrien/opt/anaconda3/envs/learn-env/lib/python3.8/site-packages (from wordcloud) (7.2.0)\n",
      "Requirement already satisfied: python-dateutil>=2.1 in /Users/dermotobrien/opt/anaconda3/envs/learn-env/lib/python3.8/site-packages (from matplotlib->wordcloud) (2.8.1)\n",
      "Requirement already satisfied: pyparsing!=2.0.4,!=2.1.2,!=2.1.6,>=2.0.3 in /Users/dermotobrien/opt/anaconda3/envs/learn-env/lib/python3.8/site-packages (from matplotlib->wordcloud) (2.4.7)\n",
      "Requirement already satisfied: certifi>=2020.06.20 in /Users/dermotobrien/opt/anaconda3/envs/learn-env/lib/python3.8/site-packages (from matplotlib->wordcloud) (2020.6.20)\n",
      "Requirement already satisfied: cycler>=0.10 in /Users/dermotobrien/opt/anaconda3/envs/learn-env/lib/python3.8/site-packages (from matplotlib->wordcloud) (0.10.0)\n",
      "Requirement already satisfied: kiwisolver>=1.0.1 in /Users/dermotobrien/opt/anaconda3/envs/learn-env/lib/python3.8/site-packages (from matplotlib->wordcloud) (1.2.0)\n",
      "Requirement already satisfied: six>=1.5 in /Users/dermotobrien/opt/anaconda3/envs/learn-env/lib/python3.8/site-packages (from python-dateutil>=2.1->matplotlib->wordcloud) (1.15.0)\n",
      "Note: you may need to restart the kernel to use updated packages.\n"
     ]
    }
   ],
   "source": [
    "pip install wordcloud"
   ]
  },
  {
   "cell_type": "code",
   "execution_count": 98,
   "metadata": {},
   "outputs": [],
   "source": [
    "from wordcloud import WordCloud\n",
    "from PIL import Image"
   ]
  },
  {
   "cell_type": "markdown",
   "metadata": {},
   "source": [
    "### Positive Wordcloud"
   ]
  },
  {
   "cell_type": "code",
   "execution_count": 100,
   "metadata": {
    "scrolled": true
   },
   "outputs": [
    {
     "data": {
      "text/plain": [
       "ipad          154.081551\n",
       "iphone         93.841051\n",
       "store          91.717370\n",
       "app            73.464614\n",
       "new            59.190733\n",
       "austin         56.625126\n",
       "pop            48.544511\n",
       "android        46.852833\n",
       "amp            42.363330\n",
       "pop store      38.823146\n",
       "get            36.921746\n",
       "great          36.492210\n",
       "party          35.665238\n",
       "iphone app     33.671351\n",
       "launch         32.620282\n",
       "via            31.564277\n",
       "line           31.262553\n",
       "free           30.528700\n",
       "circles        29.900142\n",
       "time           29.085429\n",
       "cool           28.982908\n",
       "i'm            28.800391\n",
       "like           28.488998\n",
       "awesome        28.126042\n",
       "social         27.846866\n",
       "day            27.448206\n",
       "one            27.321168\n",
       "sxswi          27.231984\n",
       "w              26.657723\n",
       "mobile         26.531226\n",
       "dtype: float64"
      ]
     },
     "execution_count": 100,
     "metadata": {},
     "output_type": "execute_result"
    }
   ],
   "source": [
    "pos_matrix_2.T.sum(axis=1).sort_values(ascending=False).head(30)"
   ]
  },
  {
   "cell_type": "code",
   "execution_count": 101,
   "metadata": {},
   "outputs": [],
   "source": [
    "pos_matrix_2.drop(['austin', 'pop', 'amp', 'get', 'circles', 'via', 'one', 'time', 'sxswi', \"i'm\"], axis=1, inplace=True)"
   ]
  },
  {
   "cell_type": "code",
   "execution_count": 104,
   "metadata": {},
   "outputs": [],
   "source": [
    "custom_mask = np.array(Image.open(\"./visuals/twitter_positive_mask.png\"))\n",
    "pos_cloud = WordCloud(mask=custom_mask, \n",
    "                      background_color=\"white\",\n",
    "                      contour_color='black',\n",
    "                      contour_width=3,\n",
    "                      colormap='Greens', max_words=50).generate_from_frequencies(pos_matrix_2.T.sum(axis=1))"
   ]
  },
  {
   "cell_type": "code",
   "execution_count": 105,
   "metadata": {},
   "outputs": [
    {
     "data": {
      "image/png": "[encoded data removed]",
      "text/plain": [
       "<Figure size 1080x720 with 1 Axes>"
      ]
     },
     "metadata": {
      "needs_background": "light"
     },
     "output_type": "display_data"
    },
    {
     "data": {
      "text/plain": [
       "<wordcloud.wordcloud.WordCloud at 0x7fc84db47d90>"
      ]
     },
     "execution_count": 105,
     "metadata": {},
     "output_type": "execute_result"
    }
   ],
   "source": [
    "plt.figure(figsize=(15,10))\n",
    "plt.imshow(pos_cloud, interpolation='bilinear')\n",
    "plt.axis('off')\n",
    "plt.show()\n",
    "\n",
    "pos_cloud.to_file('./visuals/Positive_wordcloud.png')"
   ]
  },
  {
   "cell_type": "markdown",
   "metadata": {},
   "source": [
    "### Negative Wordcloud"
   ]
  },
  {
   "cell_type": "code",
   "execution_count": 106,
   "metadata": {
    "scrolled": true
   },
   "outputs": [
    {
     "data": {
      "text/plain": [
       "ipad          41.158674\n",
       "iphone        40.864248\n",
       "app           20.469147\n",
       "store         16.462921\n",
       "like          14.516262\n",
       "new           12.111509\n",
       "android       11.420676\n",
       "people        10.919171\n",
       "iphone app    10.531592\n",
       "austin        10.478130\n",
       "circles        9.361985\n",
       "design         9.239513\n",
       "apps           9.089352\n",
       "social         8.217089\n",
       "get            8.060069\n",
       "line           7.832015\n",
       "one            7.738956\n",
       "fail           7.588151\n",
       "amp            7.587623\n",
       "says           7.424825\n",
       "time           7.353402\n",
       "need           7.165334\n",
       "go             7.110081\n",
       "long           7.049270\n",
       "would          7.007961\n",
       "think          6.902629\n",
       "see            6.891469\n",
       "i'm            6.733508\n",
       "pop            6.640970\n",
       "battery        6.490925\n",
       "dtype: float64"
      ]
     },
     "execution_count": 106,
     "metadata": {},
     "output_type": "execute_result"
    }
   ],
   "source": [
    "neg_matrix_2.T.sum(axis=1).sort_values(ascending=False).head(30)"
   ]
  },
  {
   "cell_type": "code",
   "execution_count": 107,
   "metadata": {},
   "outputs": [],
   "source": [
    "neg_matrix_2.drop(['like', 'new', 'austin', 'iphone app', 'apps', 'circles', 'get', 'amp', 'says', 'one', 'time', 'would', 'go', \"i'm\"], axis=1, inplace=True)"
   ]
  },
  {
   "cell_type": "code",
   "execution_count": 110,
   "metadata": {},
   "outputs": [],
   "source": [
    "custom_mask = np.array(Image.open(\"./visuals/twitter_negative_mask.png\"))\n",
    "neg_cloud = WordCloud(mask=custom_mask, \n",
    "                      colormap='Reds', \n",
    "                      background_color=\"white\",\n",
    "                      contour_color='black',\n",
    "                      contour_width=3,\n",
    "                      max_words=50).generate_from_frequencies(neg_matrix_2.T.sum(axis=1))"
   ]
  },
  {
   "cell_type": "code",
   "execution_count": 111,
   "metadata": {},
   "outputs": [
    {
     "data": {
      "image/png": "[encoded data removed]",
      "text/plain": [
       "<Figure size 1080x720 with 1 Axes>"
      ]
     },
     "metadata": {
      "needs_background": "light"
     },
     "output_type": "display_data"
    },
    {
     "data": {
      "text/plain": [
       "<wordcloud.wordcloud.WordCloud at 0x7fc84db14ca0>"
      ]
     },
     "execution_count": 111,
     "metadata": {},
     "output_type": "execute_result"
    }
   ],
   "source": [
    "plt.figure(figsize=(15,10))\n",
    "plt.clf()\n",
    "plt.imshow(neg_cloud)\n",
    "plt.axis('off')\n",
    "plt.show()\n",
    "\n",
    "neg_cloud.to_file('./visuals/Negative_wordcloud.png')"
   ]
  },
  {
   "cell_type": "markdown",
   "metadata": {},
   "source": [
    "# Evaluation"
   ]
  },
  {
   "cell_type": "markdown",
   "metadata": {},
   "source": [
    "# Conclusion"
   ]
  }
 ],
 "metadata": {
  "kernelspec": {
   "display_name": "Python (learn-env)",
   "language": "python",
   "name": "learn-env"
  },
  "language_info": {
   "codemirror_mode": {
    "name": "ipython",
    "version": 3
   },
   "file_extension": ".py",
   "mimetype": "text/x-python",
   "name": "python",
   "nbconvert_exporter": "python",
   "pygments_lexer": "ipython3",
   "version": "3.8.5"
  }
 },
 "nbformat": 4,
 "nbformat_minor": 4
}
