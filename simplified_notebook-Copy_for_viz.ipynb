{
 "cells": [
  {
   "cell_type": "code",
   "execution_count": 1,
   "metadata": {},
   "outputs": [],
   "source": [
    "import pandas as pd\n",
    "import os\n",
    "import sys\n",
    "module_path = os.path.abspath(os.path.join(os.pardir, os.pardir))\n",
    "if module_path not in sys.path:\n",
    "    sys.path.append(module_path)\n",
    "    \n",
    "import pandas as pd\n",
    "import nltk\n",
    "from nltk.probability import FreqDist\n",
    "from nltk.corpus import stopwords\n",
    "from nltk.tokenize import regexp_tokenize, word_tokenize, RegexpTokenizer\n",
    "import matplotlib.pyplot as plt\n",
    "import string\n",
    "import re\n",
    "import numpy as np\n",
    "from sklearn.model_selection import train_test_split\n",
    "from nltk.stem.snowball import SnowballStemmer\n",
    "from sklearn.feature_extraction.text import TfidfVectorizer\n",
    "from sklearn.naive_bayes import MultinomialNB\n",
    "from sklearn.model_selection import cross_val_score\n",
    "from sklearn.tree import DecisionTreeClassifier\n",
    "from sklearn.ensemble import RandomForestClassifier\n",
    "from sklearn.model_selection import GridSearchCV\n",
    "from sklearn.metrics import recall_score, precision_score, accuracy_score,f1_score\n",
    "from matplotlib import rcParams"
   ]
  },
  {
   "cell_type": "code",
   "execution_count": 2,
   "metadata": {},
   "outputs": [
    {
     "name": "stderr",
     "output_type": "stream",
     "text": [
      "[nltk_data] Downloading package stopwords to\n",
      "[nltk_data]     C:\\Users\\User\\AppData\\Roaming\\nltk_data...\n",
      "[nltk_data]   Package stopwords is already up-to-date!\n"
     ]
    },
    {
     "data": {
      "text/plain": [
       "True"
      ]
     },
     "execution_count": 2,
     "metadata": {},
     "output_type": "execute_result"
    }
   ],
   "source": [
    "# use this do download stopwords if you haven't done this before\n",
    "nltk.download(\"stopwords\")"
   ]
  },
  {
   "cell_type": "code",
   "execution_count": 3,
   "metadata": {},
   "outputs": [],
   "source": [
    "# loading in dataframe, using special encoder parameter to save it correctly\n",
    "df = pd.read_csv('twitter_data.csv',encoding= 'unicode_escape')"
   ]
  },
  {
   "cell_type": "code",
   "execution_count": 4,
   "metadata": {},
   "outputs": [],
   "source": [
    "# renaming the columns\n",
    "df = df.rename(columns={\"tweet_text\": \"tweet\", \"emotion_in_tweet_is_directed_at\": \"subject\", \"is_there_an_emotion_directed_at_a_brand_or_product\": \"emotion\"})"
   ]
  },
  {
   "cell_type": "code",
   "execution_count": 5,
   "metadata": {},
   "outputs": [],
   "source": [
    "df['tweet'] = df['tweet'].str.lower()"
   ]
  },
  {
   "cell_type": "code",
   "execution_count": 6,
   "metadata": {},
   "outputs": [],
   "source": [
    "df_binary = df.loc[(df['emotion'] == 'Positive emotion' ) | (df['emotion'] == 'Negative emotion' )]"
   ]
  },
  {
   "cell_type": "code",
   "execution_count": 7,
   "metadata": {
    "scrolled": true
   },
   "outputs": [
    {
     "name": "stderr",
     "output_type": "stream",
     "text": [
      "C:\\Users\\User\\anaconda3_1\\envs\\learn-env\\lib\\site-packages\\pandas\\core\\indexing.py:1596: SettingWithCopyWarning: \n",
      "A value is trying to be set on a copy of a slice from a DataFrame.\n",
      "Try using .loc[row_indexer,col_indexer] = value instead\n",
      "\n",
      "See the caveats in the documentation: https://pandas.pydata.org/pandas-docs/stable/user_guide/indexing.html#returning-a-view-versus-a-copy\n",
      "  self.obj[key] = _infer_fill_value(value)\n",
      "C:\\Users\\User\\anaconda3_1\\envs\\learn-env\\lib\\site-packages\\pandas\\core\\indexing.py:1765: SettingWithCopyWarning: \n",
      "A value is trying to be set on a copy of a slice from a DataFrame.\n",
      "Try using .loc[row_indexer,col_indexer] = value instead\n",
      "\n",
      "See the caveats in the documentation: https://pandas.pydata.org/pandas-docs/stable/user_guide/indexing.html#returning-a-view-versus-a-copy\n",
      "  isetter(loc, value)\n"
     ]
    }
   ],
   "source": [
    "df_binary.loc[df_binary['emotion'] == 'Positive emotion' , 'emotion_label'] = 0\n",
    "df_binary.loc[df_binary['emotion'] == 'Negative emotion' , 'emotion_label'] = 1"
   ]
  },
  {
   "cell_type": "code",
   "execution_count": 8,
   "metadata": {},
   "outputs": [],
   "source": [
    "# function to label new column based on the product category \n",
    "\n",
    "def label_brand(row):\n",
    "    if row['subject'] == 'iPad':\n",
    "        return 'Apple'\n",
    "    elif row['subject'] == 'Apple':\n",
    "        return 'Apple'\n",
    "    elif row['subject'] == 'iPad or iPhone App':\n",
    "        return 'Apple'\n",
    "    elif row['subject'] == 'iPhone':\n",
    "        return 'Apple'\n",
    "    elif row['subject'] == 'Other Apple product or service':\n",
    "        return 'Apple'\n",
    "    elif row['subject'] == 'Google':\n",
    "        return 'Google'\n",
    "    elif row['subject'] == 'Other Google product or service':\n",
    "        return 'Google'\n",
    "    elif row['subject'] == 'Android App':\n",
    "        return 'Google'\n",
    "    elif row['subject'] == 'Android':\n",
    "        return 'Google'\n",
    "    elif row['subject'] == np.nan: \n",
    "        return np.nan"
   ]
  },
  {
   "cell_type": "code",
   "execution_count": 9,
   "metadata": {},
   "outputs": [
    {
     "name": "stderr",
     "output_type": "stream",
     "text": [
      "<ipython-input-9-3c2e651705a5>:1: SettingWithCopyWarning: \n",
      "A value is trying to be set on a copy of a slice from a DataFrame.\n",
      "Try using .loc[row_indexer,col_indexer] = value instead\n",
      "\n",
      "See the caveats in the documentation: https://pandas.pydata.org/pandas-docs/stable/user_guide/indexing.html#returning-a-view-versus-a-copy\n",
      "  df_binary['company'] = df_binary.apply(lambda row: label_brand(row), axis=1)\n"
     ]
    }
   ],
   "source": [
    "df_binary['company'] = df_binary.apply(lambda row: label_brand(row), axis=1)"
   ]
  },
  {
   "cell_type": "code",
   "execution_count": 10,
   "metadata": {},
   "outputs": [],
   "source": [
    "apple_words = ['apple','ipad','iphone','itunes']\n",
    "google_words = ['google','android']"
   ]
  },
  {
   "cell_type": "code",
   "execution_count": 11,
   "metadata": {},
   "outputs": [],
   "source": [
    "df_binary.loc[(df_binary['subject'].isna()) & (df_binary['tweet'].str.contains('|'.join(apple_words))),'company'] = 'Apple'"
   ]
  },
  {
   "cell_type": "code",
   "execution_count": 12,
   "metadata": {},
   "outputs": [],
   "source": [
    "df_binary.loc[(df_binary['subject'].isna()) & (df_binary['tweet'].str.contains('|'.join(google_words))),'company'] = 'Google'"
   ]
  },
  {
   "cell_type": "code",
   "execution_count": 13,
   "metadata": {},
   "outputs": [
    {
     "name": "stderr",
     "output_type": "stream",
     "text": [
      "<ipython-input-13-7638a198be87>:1: SettingWithCopyWarning: \n",
      "A value is trying to be set on a copy of a slice from a DataFrame\n",
      "\n",
      "See the caveats in the documentation: https://pandas.pydata.org/pandas-docs/stable/user_guide/indexing.html#returning-a-view-versus-a-copy\n",
      "  df_binary.dropna(subset=['company'],inplace=True)\n"
     ]
    }
   ],
   "source": [
    "df_binary.dropna(subset=['company'],inplace=True)"
   ]
  },
  {
   "cell_type": "code",
   "execution_count": 14,
   "metadata": {},
   "outputs": [],
   "source": [
    "X_train, X_test, y_train, y_test = train_test_split(df_binary['tweet'], df_binary['emotion_label'], train_size=.9)"
   ]
  },
  {
   "cell_type": "code",
   "execution_count": 15,
   "metadata": {},
   "outputs": [],
   "source": [
    "og_stopwords = stopwords.words('english')"
   ]
  },
  {
   "cell_type": "markdown",
   "metadata": {},
   "source": [
    "## Baseline Model"
   ]
  },
  {
   "cell_type": "code",
   "execution_count": 16,
   "metadata": {},
   "outputs": [],
   "source": [
    "tfidf_baseline = TfidfVectorizer(token_pattern=r\"([a-zA-Z]+(?:'[a-z]+)?)\",stop_words = og_stopwords)\n",
    "baseline_vectorized = tfidf_baseline.fit_transform(X_train)"
   ]
  },
  {
   "cell_type": "code",
   "execution_count": 17,
   "metadata": {},
   "outputs": [],
   "source": [
    "baseline_model = MultinomialNB()"
   ]
  },
  {
   "cell_type": "code",
   "execution_count": 18,
   "metadata": {},
   "outputs": [
    {
     "data": {
      "text/plain": [
       "0.8457445968227638"
      ]
     },
     "execution_count": 18,
     "metadata": {},
     "output_type": "execute_result"
    }
   ],
   "source": [
    "# Evaluate the classifier on baseline_vectorized and y_train\n",
    "baseline_cv = cross_val_score(baseline_model, baseline_vectorized, y_train)\n",
    "baseline_cv.mean()"
   ]
  },
  {
   "cell_type": "code",
   "execution_count": 19,
   "metadata": {},
   "outputs": [
    {
     "name": "stdout",
     "output_type": "stream",
     "text": [
      "0.8583097706566133\n"
     ]
    }
   ],
   "source": [
    "# finding training score \n",
    "baseline_model.fit(baseline_vectorized,y_train)\n",
    "baseline_train_score = baseline_model.score(baseline_vectorized,y_train)\n",
    "print(baseline_train_score)"
   ]
  },
  {
   "cell_type": "code",
   "execution_count": 20,
   "metadata": {
    "scrolled": true
   },
   "outputs": [
    {
     "data": {
      "text/plain": [
       "0.122568093385214"
      ]
     },
     "execution_count": 20,
     "metadata": {},
     "output_type": "execute_result"
    }
   ],
   "source": [
    "#Evaluating recall\n",
    "y_pred_baseline = baseline_model.predict(baseline_vectorized)\n",
    "recall_score(y_train, y_pred_baseline)"
   ]
  },
  {
   "cell_type": "markdown",
   "metadata": {},
   "source": [
    "## Iteration 1: Decision Tree"
   ]
  },
  {
   "cell_type": "code",
   "execution_count": 21,
   "metadata": {},
   "outputs": [],
   "source": [
    "tfidf_1 = TfidfVectorizer(token_pattern = r\"([a-zA-Z]+(?:'[a-z]+)?)\",stop_words = og_stopwords)\n",
    "vectorized_1 = tfidf_1.fit_transform(X_train)"
   ]
  },
  {
   "cell_type": "code",
   "execution_count": 22,
   "metadata": {},
   "outputs": [],
   "source": [
    "dt = DecisionTreeClassifier()"
   ]
  },
  {
   "cell_type": "code",
   "execution_count": 23,
   "metadata": {},
   "outputs": [
    {
     "data": {
      "text/plain": [
       "0.8451077673449643"
      ]
     },
     "execution_count": 23,
     "metadata": {},
     "output_type": "execute_result"
    }
   ],
   "source": [
    "# Evaluate the classifier on basekube_vectorized and y_train\n",
    "cv1 = cross_val_score(dt,vectorized_1, y_train)\n",
    "cv1.mean()"
   ]
  },
  {
   "cell_type": "code",
   "execution_count": 24,
   "metadata": {},
   "outputs": [
    {
     "name": "stdout",
     "output_type": "stream",
     "text": [
      "0.9996858309770656\n"
     ]
    }
   ],
   "source": [
    "# finding training score \n",
    "dt.fit(vectorized_1,y_train)\n",
    "dt1_score = dt.score(vectorized_1,y_train)\n",
    "print(dt1_score)"
   ]
  },
  {
   "cell_type": "code",
   "execution_count": 25,
   "metadata": {},
   "outputs": [
    {
     "data": {
      "text/plain": [
       "0.122568093385214"
      ]
     },
     "execution_count": 25,
     "metadata": {},
     "output_type": "execute_result"
    }
   ],
   "source": [
    "#Evaluating recall\n",
    "y_pred_dt = dt.predict(baseline_vectorized)\n",
    "recall_score(y_train, y_pred_baseline)"
   ]
  },
  {
   "cell_type": "markdown",
   "metadata": {},
   "source": [
    "## Iteration 2: Random Forest"
   ]
  },
  {
   "cell_type": "code",
   "execution_count": 26,
   "metadata": {},
   "outputs": [],
   "source": [
    "tfidf_2 = TfidfVectorizer(token_pattern = r\"([a-zA-Z]+(?:'[a-z]+)?)\",stop_words = og_stopwords)\n",
    "vectorized_2 = tfidf_2.fit_transform(X_train)"
   ]
  },
  {
   "cell_type": "code",
   "execution_count": 27,
   "metadata": {},
   "outputs": [],
   "source": [
    "rf = RandomForestClassifier()"
   ]
  },
  {
   "cell_type": "code",
   "execution_count": 28,
   "metadata": {},
   "outputs": [
    {
     "data": {
      "text/plain": [
       "0.8683678406050375"
      ]
     },
     "execution_count": 28,
     "metadata": {},
     "output_type": "execute_result"
    }
   ],
   "source": [
    "# Evaluate the random forest\n",
    "cv2 = cross_val_score(rf,vectorized_2, y_train)\n",
    "cv2.mean()"
   ]
  },
  {
   "cell_type": "code",
   "execution_count": 29,
   "metadata": {},
   "outputs": [
    {
     "name": "stdout",
     "output_type": "stream",
     "text": [
      "0.9996858309770656\n"
     ]
    }
   ],
   "source": [
    "# finding training score \n",
    "rf.fit(vectorized_2,y_train)\n",
    "rf1_score = rf.score(vectorized_2,y_train)\n",
    "print(rf1_score)"
   ]
  },
  {
   "cell_type": "code",
   "execution_count": 30,
   "metadata": {},
   "outputs": [
    {
     "data": {
      "text/plain": [
       "0.9980544747081712"
      ]
     },
     "execution_count": 30,
     "metadata": {},
     "output_type": "execute_result"
    }
   ],
   "source": [
    "#Evaluating recall\n",
    "y_pred_rf = rf.predict(vectorized_2)\n",
    "recall_score(y_train, y_pred_rf)"
   ]
  },
  {
   "cell_type": "markdown",
   "metadata": {},
   "source": [
    "## Iteration 3: Vectorizer "
   ]
  },
  {
   "cell_type": "code",
   "execution_count": 31,
   "metadata": {},
   "outputs": [],
   "source": [
    "tfidf_3 = TfidfVectorizer(token_pattern = r\"([a-zA-Z]+(?:'[a-z]+)?)\",\n",
    "                          stop_words = og_stopwords,\n",
    "                          ngram_range = (1,2),\n",
    "                          min_df= 5\n",
    "                         )\n",
    "vectorized_3 = tfidf_3.fit_transform(X_train)\n",
    "\n",
    "# five is the best input for our min_df parameter\n",
    "# (1,2) is the best input for our ngram_range parameter"
   ]
  },
  {
   "cell_type": "code",
   "execution_count": 32,
   "metadata": {},
   "outputs": [
    {
     "data": {
      "text/plain": [
       "0.8683643849412045"
      ]
     },
     "execution_count": 32,
     "metadata": {},
     "output_type": "execute_result"
    }
   ],
   "source": [
    "# Evaluate the random forest\n",
    "cv3 = cross_val_score(rf,vectorized_3, y_train)\n",
    "cv3.mean()"
   ]
  },
  {
   "cell_type": "code",
   "execution_count": 33,
   "metadata": {},
   "outputs": [
    {
     "name": "stdout",
     "output_type": "stream",
     "text": [
      "0.9996858309770656\n"
     ]
    }
   ],
   "source": [
    "# finding training score \n",
    "rf.fit(vectorized_3, y_train)\n",
    "rf2_score = rf.score(vectorized_3, y_train)\n",
    "print(rf2_score)"
   ]
  },
  {
   "cell_type": "code",
   "execution_count": 34,
   "metadata": {},
   "outputs": [
    {
     "data": {
      "text/plain": [
       "0.9980544747081712"
      ]
     },
     "execution_count": 34,
     "metadata": {},
     "output_type": "execute_result"
    }
   ],
   "source": [
    "#Evaluating recall\n",
    "y_pred_rf2 = rf.predict(vectorized_3)\n",
    "recall_score(y_train, y_pred_rf2)"
   ]
  },
  {
   "cell_type": "code",
   "execution_count": 35,
   "metadata": {},
   "outputs": [],
   "source": [
    "# looking at the shape of our tfidf sparse matrix\n",
    "# pd.DataFrame.sparse.from_spmatrix(vectorized_3, columns=tfidf_3.get_feature_names()).shape"
   ]
  },
  {
   "cell_type": "markdown",
   "metadata": {},
   "source": [
    "## Iteration 4 - Random Forest"
   ]
  },
  {
   "cell_type": "code",
   "execution_count": 36,
   "metadata": {},
   "outputs": [],
   "source": [
    "tfidf_4 = TfidfVectorizer(token_pattern = r\"([a-zA-Z]+(?:'[a-z]+)?)\",\n",
    "                          stop_words = og_stopwords,\n",
    "                          ngram_range = (1,2),\n",
    "                          min_df= 5\n",
    "                         )\n",
    "vectorized_4 = tfidf_4.fit_transform(X_train)"
   ]
  },
  {
   "cell_type": "code",
   "execution_count": 37,
   "metadata": {},
   "outputs": [],
   "source": [
    "# grid search for random forest parameters\n",
    "grid_rf1 = {\"n_estimators\":[100, 200, 300],\n",
    "           \"criterion\": [\"gini\", \"entropy\", \"log_loss\"],\n",
    "           \"max_features\": [\"sqrt\", \"auto\"],\n",
    "           \"max_depth\" : [10,20,30,None],\n",
    "            \"min_samples_leaf\" : [1,2,4],\n",
    "            \"min_samples_split\": [2,5,10]\n",
    "            }\n",
    "GS_rf1 = GridSearchCV(\n",
    "    estimator=rf,\n",
    "    param_grid=grid_rf1,\n",
    "    verbose=2)"
   ]
  },
  {
   "cell_type": "code",
   "execution_count": 38,
   "metadata": {},
   "outputs": [],
   "source": [
    "# GS_rf1.fit(vectorized_4,y_train)"
   ]
  },
  {
   "cell_type": "code",
   "execution_count": 39,
   "metadata": {
    "scrolled": false
   },
   "outputs": [],
   "source": [
    "# GS_rf1.best_params_"
   ]
  },
  {
   "cell_type": "markdown",
   "metadata": {},
   "source": [
    "{'criterion': 'gini',\n",
    "\n",
    "'max_depth': None,\n",
    "\n",
    "'max_features': 'auto',\n",
    "\n",
    "'min_samples_leaf': 1,\n",
    "\n",
    "'min_samples_split': 2,\n",
    "\n",
    "'n_estimators': 200}"
   ]
  },
  {
   "cell_type": "code",
   "execution_count": 40,
   "metadata": {
    "scrolled": true
   },
   "outputs": [],
   "source": [
    "# GS_rf1.best_score_"
   ]
  },
  {
   "cell_type": "markdown",
   "metadata": {},
   "source": [
    "0.8695299008634473"
   ]
  },
  {
   "cell_type": "code",
   "execution_count": 41,
   "metadata": {},
   "outputs": [],
   "source": [
    "# grid search for random forest parameters\n",
    "grid_rf2 = {\"n_estimators\":[150, 200, 250],\n",
    "           \"criterion\": [\"gini\"],\n",
    "           \"max_features\": [\"auto\"],\n",
    "           \"max_depth\" : [None],\n",
    "            \"min_samples_leaf\" : [1],\n",
    "            \"min_samples_split\": [1,2,3]\n",
    "            }\n",
    "GS_rf2 = GridSearchCV(\n",
    "    estimator=rf,\n",
    "    param_grid=grid_rf2,\n",
    "    n_jobs=-1,\n",
    "    verbose=2)"
   ]
  },
  {
   "cell_type": "code",
   "execution_count": 42,
   "metadata": {},
   "outputs": [],
   "source": [
    "#GS_rf2.fit(vectorized_4,y_train)"
   ]
  },
  {
   "cell_type": "code",
   "execution_count": 43,
   "metadata": {},
   "outputs": [],
   "source": [
    "#GS_rf2.best_params_"
   ]
  },
  {
   "cell_type": "code",
   "execution_count": 44,
   "metadata": {},
   "outputs": [],
   "source": [
    "#GS_rf2.best_score_"
   ]
  },
  {
   "cell_type": "code",
   "execution_count": 45,
   "metadata": {},
   "outputs": [],
   "source": [
    "# grid search for random forest parameters\n",
    "grid_rf3 = {\"n_estimators\":[175, 200, 225],\n",
    "           \"criterion\": [\"gini\"],\n",
    "           \"max_features\": [\"auto\"],\n",
    "           \"max_depth\" : [None],\n",
    "            \"min_samples_leaf\" : [1],\n",
    "            \"min_samples_split\": [3,4,5]\n",
    "            }\n",
    "GS_rf3 = GridSearchCV(\n",
    "    estimator=rf,\n",
    "    param_grid=grid_rf3,\n",
    "    n_jobs=-1,\n",
    "    verbose=2)"
   ]
  },
  {
   "cell_type": "code",
   "execution_count": 46,
   "metadata": {},
   "outputs": [],
   "source": [
    "#GS_rf3.fit(vectorized_4,y_train)"
   ]
  },
  {
   "cell_type": "code",
   "execution_count": 47,
   "metadata": {
    "scrolled": true
   },
   "outputs": [],
   "source": [
    "#GS_rf3.best_params_"
   ]
  },
  {
   "cell_type": "code",
   "execution_count": 48,
   "metadata": {},
   "outputs": [],
   "source": [
    "#GS_rf3.best_score_"
   ]
  },
  {
   "cell_type": "code",
   "execution_count": 49,
   "metadata": {},
   "outputs": [],
   "source": [
    "rf3 = RandomForestClassifier(n_estimators=225,\n",
    "                             criterion=\"gini\",\n",
    "                             max_depth=None,\n",
    "                             min_samples_split=3,\n",
    "                             min_samples_leaf=1,\n",
    "                             max_features=\"auto\")"
   ]
  },
  {
   "cell_type": "code",
   "execution_count": 50,
   "metadata": {},
   "outputs": [
    {
     "data": {
      "text/plain": [
       "0.8724499669243604"
      ]
     },
     "execution_count": 50,
     "metadata": {},
     "output_type": "execute_result"
    }
   ],
   "source": [
    "# Evaluate the random forest\n",
    "cv4 = cross_val_score(rf3, vectorized_4, y_train)\n",
    "cv4.mean()"
   ]
  },
  {
   "cell_type": "code",
   "execution_count": 51,
   "metadata": {
    "scrolled": true
   },
   "outputs": [
    {
     "name": "stdout",
     "output_type": "stream",
     "text": [
      "0.9990574929311969\n"
     ]
    }
   ],
   "source": [
    "# finding training score \n",
    "rf3.fit(vectorized_4, y_train)\n",
    "rf3_score = rf3.score(vectorized_4, y_train)\n",
    "print(rf3_score)"
   ]
  },
  {
   "cell_type": "code",
   "execution_count": 52,
   "metadata": {},
   "outputs": [
    {
     "data": {
      "text/plain": [
       "0.9941634241245136"
      ]
     },
     "execution_count": 52,
     "metadata": {},
     "output_type": "execute_result"
    }
   ],
   "source": [
    "#Evaluating recall\n",
    "y_pred_rf3 = rf3.predict(vectorized_4)\n",
    "recall_score(y_train, y_pred_rf3)"
   ]
  },
  {
   "cell_type": "markdown",
   "metadata": {},
   "source": [
    "## Incorporating Additional Stopwords"
   ]
  },
  {
   "cell_type": "code",
   "execution_count": 53,
   "metadata": {},
   "outputs": [],
   "source": [
    "word_eval = pd.concat([X_train, y_train], axis=1)\n",
    "word_eval_pos = word_eval.loc[word_eval[\"emotion_label\"] == 0]\n",
    "word_eval_neg = word_eval.loc[word_eval[\"emotion_label\"] == 1]"
   ]
  },
  {
   "cell_type": "markdown",
   "metadata": {},
   "source": [
    "### Positive Words"
   ]
  },
  {
   "cell_type": "code",
   "execution_count": 54,
   "metadata": {},
   "outputs": [],
   "source": [
    "tfidf_pos = TfidfVectorizer(token_pattern = r\"([a-zA-Z]+(?:'[a-z]+)?)\",\n",
    "                          stop_words = og_stopwords,\n",
    "                          ngram_range = (1,2), min_df=5)"
   ]
  },
  {
   "cell_type": "code",
   "execution_count": 55,
   "metadata": {},
   "outputs": [],
   "source": [
    "pos_vec = tfidf_pos.fit_transform(word_eval_pos[\"tweet\"])"
   ]
  },
  {
   "cell_type": "code",
   "execution_count": 56,
   "metadata": {},
   "outputs": [],
   "source": [
    "pos_matrix = pd.DataFrame.sparse.from_spmatrix(pos_vec, columns=tfidf_pos.get_feature_names())"
   ]
  },
  {
   "cell_type": "code",
   "execution_count": 57,
   "metadata": {},
   "outputs": [],
   "source": [
    "pos_words_sorted = list(pos_matrix.mean(axis=0).sort_values(ascending=False).head(10).index)"
   ]
  },
  {
   "cell_type": "markdown",
   "metadata": {},
   "source": [
    "### Negative Words"
   ]
  },
  {
   "cell_type": "code",
   "execution_count": 58,
   "metadata": {},
   "outputs": [],
   "source": [
    "tfidf_neg = TfidfVectorizer(token_pattern = r\"([a-zA-Z]+(?:'[a-z]+)?)\",\n",
    "                          stop_words = og_stopwords,\n",
    "                          ngram_range = (1,2), min_df=5)"
   ]
  },
  {
   "cell_type": "code",
   "execution_count": 59,
   "metadata": {},
   "outputs": [],
   "source": [
    "neg_vec = tfidf_neg.fit_transform(word_eval_neg[\"tweet\"])"
   ]
  },
  {
   "cell_type": "code",
   "execution_count": 60,
   "metadata": {},
   "outputs": [],
   "source": [
    "neg_matrix = pd.DataFrame.sparse.from_spmatrix(neg_vec, columns=tfidf_neg.get_feature_names())"
   ]
  },
  {
   "cell_type": "code",
   "execution_count": 61,
   "metadata": {
    "scrolled": true
   },
   "outputs": [],
   "source": [
    "neg_words_sorted = list(neg_matrix.mean(axis=0).sort_values(ascending=False).head(10).index)"
   ]
  },
  {
   "cell_type": "markdown",
   "metadata": {},
   "source": [
    "### Shared Words"
   ]
  },
  {
   "cell_type": "code",
   "execution_count": 62,
   "metadata": {},
   "outputs": [
    {
     "data": {
      "text/plain": [
       "['mention',\n",
       " 'sxsw',\n",
       " 'ipad',\n",
       " 'link',\n",
       " 'apple',\n",
       " 'rt',\n",
       " 'rt mention',\n",
       " 'google',\n",
       " 'iphone',\n",
       " 'store']"
      ]
     },
     "execution_count": 62,
     "metadata": {},
     "output_type": "execute_result"
    }
   ],
   "source": [
    "pos_words_sorted"
   ]
  },
  {
   "cell_type": "code",
   "execution_count": 63,
   "metadata": {},
   "outputs": [
    {
     "data": {
      "text/plain": [
       "['sxsw',\n",
       " 'mention',\n",
       " 'ipad',\n",
       " 'iphone',\n",
       " 'quot',\n",
       " 'google',\n",
       " 'apple',\n",
       " 'rt',\n",
       " 'rt mention',\n",
       " 'link']"
      ]
     },
     "execution_count": 63,
     "metadata": {},
     "output_type": "execute_result"
    }
   ],
   "source": [
    "neg_words_sorted"
   ]
  },
  {
   "cell_type": "code",
   "execution_count": 64,
   "metadata": {},
   "outputs": [
    {
     "data": {
      "text/plain": [
       "['mention',\n",
       " 'sxsw',\n",
       " 'ipad',\n",
       " 'link',\n",
       " 'apple',\n",
       " 'rt',\n",
       " 'rt mention',\n",
       " 'google',\n",
       " 'iphone']"
      ]
     },
     "execution_count": 64,
     "metadata": {},
     "output_type": "execute_result"
    }
   ],
   "source": [
    "shared_words = [word for word in pos_words_sorted if word in neg_words_sorted]\n",
    "shared_words"
   ]
  },
  {
   "cell_type": "code",
   "execution_count": 65,
   "metadata": {},
   "outputs": [],
   "source": [
    "updated_stopwords = og_stopwords.copy()\n",
    "updated_stopwords.extend(['sxsw', 'mention', 'link', 'apple', 'google', 'quot', 'rt', 'rt mention'])"
   ]
  },
  {
   "cell_type": "markdown",
   "metadata": {},
   "source": [
    "## Iteration 5 - Random Forest with updated stopwords"
   ]
  },
  {
   "cell_type": "code",
   "execution_count": 66,
   "metadata": {},
   "outputs": [],
   "source": [
    "tfidf_5 = TfidfVectorizer(token_pattern = r\"([a-zA-Z]+(?:'[a-z]+)?)\",\n",
    "                          stop_words = updated_stopwords,\n",
    "                          ngram_range = (1,2),\n",
    "                          min_df= 5)\n",
    "\n",
    "vectorized_5 = tfidf_5.fit_transform(X_train)"
   ]
  },
  {
   "cell_type": "code",
   "execution_count": 67,
   "metadata": {},
   "outputs": [],
   "source": [
    "rf5 = RandomForestClassifier(n_estimators=225,\n",
    "                             criterion=\"gini\",\n",
    "                             max_depth=None,\n",
    "                             min_samples_split=3,\n",
    "                             min_samples_leaf=1,\n",
    "                             max_features=\"auto\")"
   ]
  },
  {
   "cell_type": "code",
   "execution_count": 68,
   "metadata": {},
   "outputs": [
    {
     "data": {
      "text/plain": [
       "0.8762191088336643"
      ]
     },
     "execution_count": 68,
     "metadata": {},
     "output_type": "execute_result"
    }
   ],
   "source": [
    "# Evaluate the random forest\n",
    "cv5 = cross_val_score(rf5, vectorized_5, y_train)\n",
    "cv5.mean()"
   ]
  },
  {
   "cell_type": "code",
   "execution_count": 69,
   "metadata": {
    "scrolled": true
   },
   "outputs": [
    {
     "name": "stdout",
     "output_type": "stream",
     "text": [
      "0.9959158027018536\n"
     ]
    }
   ],
   "source": [
    "# finding training score \n",
    "rf5.fit(vectorized_5, y_train)\n",
    "rf5_score = rf5.score(vectorized_5, y_train)\n",
    "print(rf5_score)"
   ]
  },
  {
   "cell_type": "code",
   "execution_count": 70,
   "metadata": {},
   "outputs": [
    {
     "data": {
      "text/plain": [
       "0.9824902723735408"
      ]
     },
     "execution_count": 70,
     "metadata": {},
     "output_type": "execute_result"
    }
   ],
   "source": [
    "# Evaluating recall\n",
    "y_pred_rf5 = rf5.predict(vectorized_5)\n",
    "recall_score(y_train, y_pred_rf5)"
   ]
  },
  {
   "cell_type": "markdown",
   "metadata": {},
   "source": [
    "### Recreate Positive and Negative Lists"
   ]
  },
  {
   "cell_type": "markdown",
   "metadata": {},
   "source": [
    "#### Positive Words"
   ]
  },
  {
   "cell_type": "code",
   "execution_count": 71,
   "metadata": {},
   "outputs": [],
   "source": [
    "tfidf_pos_2 = TfidfVectorizer(token_pattern = r\"([a-zA-Z]+(?:'[a-z]+)?)\",\n",
    "                          stop_words = updated_stopwords,\n",
    "                          ngram_range = (1,2), \n",
    "                          min_df=5)\n",
    "\n",
    "pos_vec_2 = tfidf_pos_2.fit_transform(word_eval_pos[\"tweet\"])\n",
    "\n",
    "pos_matrix_2 = pd.DataFrame.sparse.from_spmatrix(pos_vec_2, columns=tfidf_pos_2.get_feature_names())\n",
    "\n",
    "pos_words_sorted_2 = list(pos_matrix_2.mean(axis=0).sort_values(ascending=False).index)"
   ]
  },
  {
   "cell_type": "code",
   "execution_count": 72,
   "metadata": {
    "scrolled": false
   },
   "outputs": [],
   "source": [
    "# pos_words_sorted_2"
   ]
  },
  {
   "cell_type": "markdown",
   "metadata": {},
   "source": [
    "#### Negative Words"
   ]
  },
  {
   "cell_type": "code",
   "execution_count": 73,
   "metadata": {},
   "outputs": [],
   "source": [
    "tfidf_neg_2 = TfidfVectorizer(token_pattern = r\"([a-zA-Z]+(?:'[a-z]+)?)\",\n",
    "                          stop_words = updated_stopwords,\n",
    "                          ngram_range = (1,2), \n",
    "                          min_df=5)\n",
    "\n",
    "neg_vec_2 = tfidf_neg_2.fit_transform(word_eval_neg[\"tweet\"])\n",
    "\n",
    "neg_matrix_2 = pd.DataFrame.sparse.from_spmatrix(neg_vec_2, columns=tfidf_neg_2.get_feature_names())\n",
    "\n",
    "neg_words_sorted_2 = list(neg_matrix_2.mean(axis=0).sort_values(ascending=False).index)"
   ]
  },
  {
   "cell_type": "code",
   "execution_count": 74,
   "metadata": {},
   "outputs": [],
   "source": [
    "# neg_words_sorted_2"
   ]
  },
  {
   "cell_type": "markdown",
   "metadata": {},
   "source": [
    "## Wordcloud"
   ]
  },
  {
   "cell_type": "code",
   "execution_count": 75,
   "metadata": {},
   "outputs": [
    {
     "name": "stdout",
     "output_type": "stream",
     "text": [
      "Requirement already satisfied: wordcloud in c:\\users\\user\\anaconda3_1\\envs\\learn-env\\lib\\site-packages (1.8.2.2)\n",
      "Requirement already satisfied: matplotlib in c:\\users\\user\\anaconda3_1\\envs\\learn-env\\lib\\site-packages (from wordcloud) (3.3.1)\n",
      "Requirement already satisfied: pillow in c:\\users\\user\\anaconda3_1\\envs\\learn-env\\lib\\site-packages (from wordcloud) (8.0.0)\n",
      "Requirement already satisfied: numpy>=1.6.1 in c:\\users\\user\\anaconda3_1\\envs\\learn-env\\lib\\site-packages (from wordcloud) (1.18.5)\n",
      "Requirement already satisfied: kiwisolver>=1.0.1 in c:\\users\\user\\anaconda3_1\\envs\\learn-env\\lib\\site-packages (from matplotlib->wordcloud) (1.2.0)\n",
      "Requirement already satisfied: pyparsing!=2.0.4,!=2.1.2,!=2.1.6,>=2.0.3 in c:\\users\\user\\anaconda3_1\\envs\\learn-env\\lib\\site-packages (from matplotlib->wordcloud) (2.4.7)\n",
      "Requirement already satisfied: python-dateutil>=2.1 in c:\\users\\user\\anaconda3_1\\envs\\learn-env\\lib\\site-packages (from matplotlib->wordcloud) (2.8.1)\n",
      "Requirement already satisfied: certifi>=2020.06.20 in c:\\users\\user\\anaconda3_1\\envs\\learn-env\\lib\\site-packages (from matplotlib->wordcloud) (2020.6.20)\n",
      "Requirement already satisfied: cycler>=0.10 in c:\\users\\user\\anaconda3_1\\envs\\learn-env\\lib\\site-packages (from matplotlib->wordcloud) (0.10.0)\n",
      "Requirement already satisfied: six>=1.5 in c:\\users\\user\\anaconda3_1\\envs\\learn-env\\lib\\site-packages (from python-dateutil>=2.1->matplotlib->wordcloud) (1.15.0)\n",
      "Note: you may need to restart the kernel to use updated packages.\n"
     ]
    }
   ],
   "source": [
    "pip install wordcloud"
   ]
  },
  {
   "cell_type": "code",
   "execution_count": 76,
   "metadata": {},
   "outputs": [],
   "source": [
    "from wordcloud import WordCloud\n",
    "from PIL import Image"
   ]
  },
  {
   "cell_type": "markdown",
   "metadata": {},
   "source": [
    "### Positive Wordcloud"
   ]
  },
  {
   "cell_type": "code",
   "execution_count": 77,
   "metadata": {
    "scrolled": true
   },
   "outputs": [],
   "source": [
    "custom_mask = np.array(Image.open(\"twitter_bw.png\"))\n",
    "pos_cloud = WordCloud(mask=custom_mask, background_color=\"white\", colormap='Greens', max_words=50).generate_from_frequencies(pos_matrix_2.T.sum(axis=1))"
   ]
  },
  {
   "cell_type": "code",
   "execution_count": 78,
   "metadata": {},
   "outputs": [
    {
     "data": {
      "image/png": "[encoded data removed]",
      "text/plain": [
       "<Figure size 1080x720 with 1 Axes>"
      ]
     },
     "metadata": {
      "needs_background": "light"
     },
     "output_type": "display_data"
    }
   ],
   "source": [
    "plt.figure(figsize=(15,10))\n",
    "plt.imshow(pos_cloud, interpolation='bilinear')\n",
    "plt.axis('off')\n",
    "plt.show()"
   ]
  },
  {
   "cell_type": "markdown",
   "metadata": {},
   "source": [
    "### Negative Wordcloud"
   ]
  },
  {
   "cell_type": "code",
   "execution_count": 79,
   "metadata": {},
   "outputs": [],
   "source": [
    "custom_mask = np.array(Image.open(\"twitter_bw.png\"))\n",
    "neg_cloud = WordCloud(mask=custom_mask, colormap='Reds', background_color=\"white\", max_words=50).generate_from_frequencies(neg_matrix_2.T.sum(axis=1))"
   ]
  },
  {
   "cell_type": "code",
   "execution_count": 80,
   "metadata": {},
   "outputs": [
    {
     "data": {
      "image/png": "[encoded data removed]",
      "text/plain": [
       "<Figure size 1080x720 with 1 Axes>"
      ]
     },
     "metadata": {
      "needs_background": "light"
     },
     "output_type": "display_data"
    }
   ],
   "source": [
    "plt.figure(figsize=(15,10))\n",
    "plt.clf()\n",
    "plt.imshow(neg_cloud)\n",
    "plt.axis('off')\n",
    "plt.show()"
   ]
  },
  {
   "cell_type": "markdown",
   "metadata": {},
   "source": [
    "## Iteration 6 - Random Forest max_depth adjustments"
   ]
  },
  {
   "cell_type": "code",
   "execution_count": 81,
   "metadata": {},
   "outputs": [
    {
     "data": {
      "text/plain": [
       "[218,\n",
       " 227,\n",
       " 274,\n",
       " 251,\n",
       " 268,\n",
       " 253,\n",
       " 271,\n",
       " 228,\n",
       " 226,\n",
       " 155,\n",
       " 270,\n",
       " 242,\n",
       " 268,\n",
       " 166,\n",
       " 267,\n",
       " 251,\n",
       " 251,\n",
       " 171,\n",
       " 306,\n",
       " 255,\n",
       " 297,\n",
       " 289,\n",
       " 255,\n",
       " 232,\n",
       " 258,\n",
       " 225,\n",
       " 278,\n",
       " 224,\n",
       " 234,\n",
       " 229,\n",
       " 233,\n",
       " 225,\n",
       " 279,\n",
       " 284,\n",
       " 231,\n",
       " 293,\n",
       " 265,\n",
       " 287,\n",
       " 225,\n",
       " 257,\n",
       " 248,\n",
       " 252,\n",
       " 280,\n",
       " 196,\n",
       " 175,\n",
       " 260,\n",
       " 256,\n",
       " 272,\n",
       " 244,\n",
       " 261,\n",
       " 248,\n",
       " 227,\n",
       " 223,\n",
       " 241,\n",
       " 157,\n",
       " 265,\n",
       " 152,\n",
       " 248,\n",
       " 270,\n",
       " 237,\n",
       " 249,\n",
       " 254,\n",
       " 311,\n",
       " 242,\n",
       " 250,\n",
       " 245,\n",
       " 260,\n",
       " 242,\n",
       " 257,\n",
       " 247,\n",
       " 243,\n",
       " 241,\n",
       " 210,\n",
       " 257,\n",
       " 227,\n",
       " 247,\n",
       " 266,\n",
       " 277,\n",
       " 264,\n",
       " 251,\n",
       " 256,\n",
       " 253,\n",
       " 253,\n",
       " 181,\n",
       " 252,\n",
       " 232,\n",
       " 234,\n",
       " 215,\n",
       " 219,\n",
       " 242,\n",
       " 278,\n",
       " 275,\n",
       " 240,\n",
       " 262,\n",
       " 276,\n",
       " 263,\n",
       " 253,\n",
       " 256,\n",
       " 260,\n",
       " 271,\n",
       " 239,\n",
       " 273,\n",
       " 277,\n",
       " 306,\n",
       " 293,\n",
       " 244,\n",
       " 223,\n",
       " 273,\n",
       " 258,\n",
       " 251,\n",
       " 299,\n",
       " 228,\n",
       " 176,\n",
       " 256,\n",
       " 231,\n",
       " 243,\n",
       " 243,\n",
       " 258,\n",
       " 215,\n",
       " 266,\n",
       " 263,\n",
       " 203,\n",
       " 228,\n",
       " 255,\n",
       " 165,\n",
       " 255,\n",
       " 238,\n",
       " 252,\n",
       " 253,\n",
       " 177,\n",
       " 230,\n",
       " 224,\n",
       " 224,\n",
       " 235,\n",
       " 260,\n",
       " 166,\n",
       " 254,\n",
       " 268,\n",
       " 259,\n",
       " 245,\n",
       " 239,\n",
       " 239,\n",
       " 249,\n",
       " 233,\n",
       " 250,\n",
       " 150,\n",
       " 230,\n",
       " 241,\n",
       " 300,\n",
       " 241,\n",
       " 186,\n",
       " 233,\n",
       " 163,\n",
       " 253,\n",
       " 267,\n",
       " 252,\n",
       " 262,\n",
       " 213,\n",
       " 271,\n",
       " 251,\n",
       " 220,\n",
       " 230,\n",
       " 252,\n",
       " 249,\n",
       " 251,\n",
       " 225,\n",
       " 256,\n",
       " 246,\n",
       " 234,\n",
       " 169,\n",
       " 174,\n",
       " 210,\n",
       " 268,\n",
       " 291,\n",
       " 257,\n",
       " 221,\n",
       " 267,\n",
       " 160,\n",
       " 243,\n",
       " 260,\n",
       " 266,\n",
       " 159,\n",
       " 167,\n",
       " 281,\n",
       " 243,\n",
       " 239,\n",
       " 200,\n",
       " 257,\n",
       " 224,\n",
       " 286,\n",
       " 275,\n",
       " 262,\n",
       " 266,\n",
       " 251,\n",
       " 256,\n",
       " 254,\n",
       " 265,\n",
       " 263,\n",
       " 265,\n",
       " 220,\n",
       " 262,\n",
       " 305,\n",
       " 178,\n",
       " 276,\n",
       " 256,\n",
       " 256,\n",
       " 271,\n",
       " 245,\n",
       " 257,\n",
       " 236,\n",
       " 254,\n",
       " 240,\n",
       " 230,\n",
       " 243,\n",
       " 252,\n",
       " 268,\n",
       " 238,\n",
       " 239,\n",
       " 201,\n",
       " 250,\n",
       " 244,\n",
       " 262,\n",
       " 214,\n",
       " 259,\n",
       " 231]"
      ]
     },
     "execution_count": 81,
     "metadata": {},
     "output_type": "execute_result"
    }
   ],
   "source": [
    "# Check max_depths of current random forest\n",
    "[estimator.tree_.max_depth for estimator in rf5.estimators_]"
   ]
  },
  {
   "cell_type": "code",
   "execution_count": 82,
   "metadata": {},
   "outputs": [],
   "source": [
    "# grid search for random forest parameters\n",
    "grid_rf4 = {\"n_estimators\":[225],\n",
    "           \"criterion\": [\"gini\"],\n",
    "           \"max_features\": [\"auto\"],\n",
    "           \"max_depth\" : [50,100,150,200],\n",
    "            \"min_samples_leaf\" : [1],\n",
    "            \"min_samples_split\": [3]\n",
    "            }\n",
    "GS_rf4 = GridSearchCV(\n",
    "    estimator=rf,\n",
    "    param_grid=grid_rf4,\n",
    "    n_jobs=-1,\n",
    "    verbose=2,\n",
    "    scoring='recall')"
   ]
  },
  {
   "cell_type": "code",
   "execution_count": 83,
   "metadata": {},
   "outputs": [],
   "source": [
    "tfidf_6 = TfidfVectorizer(token_pattern = r\"([a-zA-Z]+(?:'[a-z]+)?)\",\n",
    "                          stop_words = updated_stopwords,\n",
    "                          ngram_range = (1,2),\n",
    "                          min_df= 5,\n",
    "                         )\n",
    "vectorized_6 = tfidf_6.fit_transform(X_train)"
   ]
  },
  {
   "cell_type": "code",
   "execution_count": 84,
   "metadata": {},
   "outputs": [],
   "source": [
    "#GS_rf4.fit(vectorized_6, y_train)"
   ]
  },
  {
   "cell_type": "code",
   "execution_count": 85,
   "metadata": {},
   "outputs": [],
   "source": [
    "#GS_rf4.best_params_"
   ]
  },
  {
   "cell_type": "code",
   "execution_count": 86,
   "metadata": {},
   "outputs": [],
   "source": [
    "#GS_rf4.best_score_"
   ]
  },
  {
   "cell_type": "markdown",
   "metadata": {},
   "source": [
    "### Run Final Model on Test Set"
   ]
  },
  {
   "cell_type": "code",
   "execution_count": 87,
   "metadata": {},
   "outputs": [],
   "source": [
    "test_vec = tfidf_5.transform(X_test)"
   ]
  },
  {
   "cell_type": "code",
   "execution_count": 88,
   "metadata": {},
   "outputs": [
    {
     "data": {
      "text/plain": [
       "0.36363636363636365"
      ]
     },
     "execution_count": 88,
     "metadata": {},
     "output_type": "execute_result"
    }
   ],
   "source": [
    "# Evaluating recall\n",
    "test_pred = rf5.predict(test_vec)\n",
    "recall_score(y_test, test_pred)"
   ]
  },
  {
   "cell_type": "code",
   "execution_count": 89,
   "metadata": {},
   "outputs": [
    {
     "data": {
      "text/plain": [
       "0.8728813559322034"
      ]
     },
     "execution_count": 89,
     "metadata": {},
     "output_type": "execute_result"
    }
   ],
   "source": [
    "accuracy_score(y_test, test_pred)"
   ]
  },
  {
   "cell_type": "code",
   "execution_count": 90,
   "metadata": {},
   "outputs": [
    {
     "data": {
      "text/plain": [
       "0.6666666666666666"
      ]
     },
     "execution_count": 90,
     "metadata": {},
     "output_type": "execute_result"
    }
   ],
   "source": [
    "precision_score(y_test, test_pred)"
   ]
  },
  {
   "cell_type": "code",
   "execution_count": 91,
   "metadata": {},
   "outputs": [
    {
     "data": {
      "text/plain": [
       "0.8728813559322034"
      ]
     },
     "execution_count": 91,
     "metadata": {},
     "output_type": "execute_result"
    }
   ],
   "source": [
    "rf5.score(test_vec, y_test)"
   ]
  },
  {
   "cell_type": "markdown",
   "metadata": {},
   "source": [
    "## Model Visualization"
   ]
  },
  {
   "cell_type": "code",
   "execution_count": 92,
   "metadata": {},
   "outputs": [],
   "source": [
    "vectorized_5 = tfidf_5.fit_transform(X_train)"
   ]
  },
  {
   "cell_type": "code",
   "execution_count": 93,
   "metadata": {},
   "outputs": [],
   "source": [
    "final_s_matrix= pd.DataFrame.sparse.from_spmatrix(vectorized_5, columns=tfidf_5.get_feature_names())"
   ]
  },
  {
   "cell_type": "code",
   "execution_count": 94,
   "metadata": {},
   "outputs": [],
   "source": [
    "final_10_words = final_s_matrix.mean(axis=0).sort_values(ascending=False).head(5)"
   ]
  },
  {
   "cell_type": "code",
   "execution_count": 95,
   "metadata": {},
   "outputs": [],
   "source": [
    "final_10_df = final_10_words.to_frame()"
   ]
  },
  {
   "cell_type": "code",
   "execution_count": 96,
   "metadata": {},
   "outputs": [],
   "source": [
    "final_10_df = final_10_df.reset_index()"
   ]
  },
  {
   "cell_type": "code",
   "execution_count": 97,
   "metadata": {},
   "outputs": [],
   "source": [
    "final_10_df.rename(columns={\"index\": \"word\", 0: \"tfidf_score\"},inplace=True)"
   ]
  },
  {
   "cell_type": "code",
   "execution_count": 98,
   "metadata": {},
   "outputs": [
    {
     "data": {
      "text/html": [
       "<div>\n",
       "<style scoped>\n",
       "    .dataframe tbody tr th:only-of-type {\n",
       "        vertical-align: middle;\n",
       "    }\n",
       "\n",
       "    .dataframe tbody tr th {\n",
       "        vertical-align: top;\n",
       "    }\n",
       "\n",
       "    .dataframe thead th {\n",
       "        text-align: right;\n",
       "    }\n",
       "</style>\n",
       "<table border=\"1\" class=\"dataframe\">\n",
       "  <thead>\n",
       "    <tr style=\"text-align: right;\">\n",
       "      <th></th>\n",
       "      <th>word</th>\n",
       "      <th>tfidf_score</th>\n",
       "    </tr>\n",
       "  </thead>\n",
       "  <tbody>\n",
       "    <tr>\n",
       "      <th>0</th>\n",
       "      <td>ipad</td>\n",
       "      <td>0.054462</td>\n",
       "    </tr>\n",
       "    <tr>\n",
       "      <th>1</th>\n",
       "      <td>iphone</td>\n",
       "      <td>0.036820</td>\n",
       "    </tr>\n",
       "    <tr>\n",
       "      <th>2</th>\n",
       "      <td>store</td>\n",
       "      <td>0.030837</td>\n",
       "    </tr>\n",
       "    <tr>\n",
       "      <th>3</th>\n",
       "      <td>app</td>\n",
       "      <td>0.024722</td>\n",
       "    </tr>\n",
       "    <tr>\n",
       "      <th>4</th>\n",
       "      <td>new</td>\n",
       "      <td>0.020833</td>\n",
       "    </tr>\n",
       "  </tbody>\n",
       "</table>\n",
       "</div>"
      ],
      "text/plain": [
       "     word  tfidf_score\n",
       "0    ipad     0.054462\n",
       "1  iphone     0.036820\n",
       "2   store     0.030837\n",
       "3     app     0.024722\n",
       "4     new     0.020833"
      ]
     },
     "execution_count": 98,
     "metadata": {},
     "output_type": "execute_result"
    }
   ],
   "source": [
    "final_10_df"
   ]
  },
  {
   "cell_type": "code",
   "execution_count": 99,
   "metadata": {},
   "outputs": [
    {
     "ename": "NameError",
     "evalue": "name 'colors' is not defined",
     "output_type": "error",
     "traceback": [
      "\u001b[1;31m---------------------------------------------------------------------------\u001b[0m",
      "\u001b[1;31mNameError\u001b[0m                                 Traceback (most recent call last)",
      "\u001b[1;32m<ipython-input-99-42506083c647>\u001b[0m in \u001b[0;36m<module>\u001b[1;34m\u001b[0m\n\u001b[0;32m     22\u001b[0m \u001b[0max\u001b[0m\u001b[1;33m.\u001b[0m\u001b[0mset_xticks\u001b[0m\u001b[1;33m(\u001b[0m\u001b[0mimportant_words_x\u001b[0m\u001b[1;33m)\u001b[0m\u001b[1;33m\u001b[0m\u001b[1;33m\u001b[0m\u001b[0m\n\u001b[0;32m     23\u001b[0m \u001b[0max\u001b[0m\u001b[1;33m.\u001b[0m\u001b[0mset_xticklabels\u001b[0m\u001b[1;33m(\u001b[0m\u001b[0mimportant_words_x\u001b[0m\u001b[1;33m,\u001b[0m \u001b[0mfontsize\u001b[0m\u001b[1;33m=\u001b[0m\u001b[1;36m20\u001b[0m\u001b[1;33m,\u001b[0m \u001b[0mrotation\u001b[0m\u001b[1;33m=\u001b[0m\u001b[1;36m45\u001b[0m\u001b[1;33m)\u001b[0m\u001b[1;33m\u001b[0m\u001b[1;33m\u001b[0m\u001b[0m\n\u001b[1;32m---> 24\u001b[1;33m \u001b[0mlabels\u001b[0m \u001b[1;33m=\u001b[0m \u001b[0mlist\u001b[0m\u001b[1;33m(\u001b[0m\u001b[0mcolors\u001b[0m\u001b[1;33m.\u001b[0m\u001b[0mkeys\u001b[0m\u001b[1;33m(\u001b[0m\u001b[1;33m)\u001b[0m\u001b[1;33m)\u001b[0m\u001b[1;33m\u001b[0m\u001b[1;33m\u001b[0m\u001b[0m\n\u001b[0m\u001b[0;32m     25\u001b[0m \u001b[0mhandles\u001b[0m \u001b[1;33m=\u001b[0m \u001b[1;33m[\u001b[0m\u001b[0mplt\u001b[0m\u001b[1;33m.\u001b[0m\u001b[0mRectangle\u001b[0m\u001b[1;33m(\u001b[0m\u001b[1;33m(\u001b[0m\u001b[1;36m0\u001b[0m\u001b[1;33m,\u001b[0m\u001b[1;36m0\u001b[0m\u001b[1;33m)\u001b[0m\u001b[1;33m,\u001b[0m\u001b[1;36m1\u001b[0m\u001b[1;33m,\u001b[0m\u001b[1;36m1\u001b[0m\u001b[1;33m,\u001b[0m \u001b[0mcolor\u001b[0m\u001b[1;33m=\u001b[0m\u001b[0mcolors\u001b[0m\u001b[1;33m[\u001b[0m\u001b[0mlabel\u001b[0m\u001b[1;33m]\u001b[0m\u001b[1;33m)\u001b[0m \u001b[1;32mfor\u001b[0m \u001b[0mlabel\u001b[0m \u001b[1;32min\u001b[0m \u001b[0mlabels\u001b[0m\u001b[1;33m]\u001b[0m\u001b[1;33m\u001b[0m\u001b[1;33m\u001b[0m\u001b[0m\n\u001b[0;32m     26\u001b[0m \u001b[0mplt\u001b[0m\u001b[1;33m.\u001b[0m\u001b[0msavefig\u001b[0m\u001b[1;33m(\u001b[0m\u001b[1;34m'./Results/Final_Model_Top_10_Words_Transparent.jpg'\u001b[0m\u001b[1;33m,\u001b[0m \u001b[0mbbox_inches\u001b[0m\u001b[1;33m=\u001b[0m\u001b[1;34m'tight'\u001b[0m\u001b[1;33m,\u001b[0m\u001b[0mtransparent\u001b[0m\u001b[1;33m=\u001b[0m\u001b[1;32mTrue\u001b[0m\u001b[1;33m)\u001b[0m\u001b[1;33m;\u001b[0m\u001b[1;33m\u001b[0m\u001b[1;33m\u001b[0m\u001b[0m\n",
      "\u001b[1;31mNameError\u001b[0m: name 'colors' is not defined"
     ]
    },
    {
     "name": "stderr",
     "output_type": "stream",
     "text": [
      "findfont: Font family ['Gill Sans'] not found. Falling back to DejaVu Sans.\n",
      "findfont: Font family ['Gill Sans'] not found. Falling back to DejaVu Sans.\n",
      "findfont: Font family ['Gill Sans'] not found. Falling back to DejaVu Sans.\n",
      "findfont: Font family ['Gill Sans'] not found. Falling back to DejaVu Sans.\n"
     ]
    },
    {
     "data": {
      "image/png": "[encoded data removed]",
      "text/plain": [
       "<Figure size 1440x720 with 1 Axes>"
      ]
     },
     "metadata": {
      "needs_background": "light"
     },
     "output_type": "display_data"
    }
   ],
   "source": [
    "# Visualize word Importance\n",
    "\n",
    "# Create variables for chart\n",
    "important_words_x = final_10_df['word']\n",
    "words = final_10_df['tfidf_score']\n",
    "\n",
    "c = ['deepskyblue', 'deepskyblue','deepskyblue', 'deepskyblue',\n",
    "     'deepskyblue']\n",
    "\n",
    "# Change font family\n",
    "plt.rcParams.update({'font.family':'Gill Sans'})\n",
    "\n",
    "# Create bar chart\n",
    "fig, ax = plt.subplots(figsize = (20,10))\n",
    "bars = ax.bar(x = important_words_x, height = words,color= c)\n",
    "ax.set_xlabel('Word', fontsize=27, labelpad=20) \n",
    "ax.set_ylabel('TF-IDF Score', fontsize=27, labelpad=25)\n",
    "ax.set_title('Most Significant Words to Model', fontsize=30, pad=15)\n",
    "ax.tick_params(axis='y', labelsize=18)\n",
    "#ax.set_yticks(fontsize=12)\n",
    "ax.set_ylim(0, 0.060, 0.005)\n",
    "ax.set_xticks(important_words_x)\n",
    "ax.set_xticklabels(important_words_x, fontsize=20, rotation=45)\n",
    "labels = list(colors.keys())\n",
    "handles = [plt.Rectangle((0,0),1,1, color=colors[label]) for label in labels]\n",
    "plt.savefig('./Results/Final_Model_Top_10_Words_Transparent.jpg', bbox_inches='tight',transparent=True);\n",
    "\n"
   ]
  },
  {
   "cell_type": "code",
   "execution_count": null,
   "metadata": {},
   "outputs": [],
   "source": [
    "# Visualize word Importance\n",
    "\n",
    "# Create variables for chart\n",
    "important_words_x = final_10_df['word']\n",
    "words = final_10_df['tfidf_score']\n",
    "\n",
    "c = ['deepskyblue', 'deepskyblue','deepskyblue', 'deepskyblue',\n",
    "     'deepskyblue']\n",
    "\n",
    "# Change font family\n",
    "plt.rcParams.update({'font.family':'Gill Sans'})\n",
    "\n",
    "# Create bar chart\n",
    "fig, ax = plt.subplots(figsize = (20,10))\n",
    "bars = ax.bar(x = important_words_x, height = words,color= c)\n",
    "ax.set_xlabel('Word', fontsize=27, labelpad=20) \n",
    "ax.set_ylabel('TF-IDF Score', fontsize=27, labelpad=25)\n",
    "ax.set_title('Most Significant Words to Model', fontsize=30, pad=15)\n",
    "ax.tick_params(axis='y', labelsize=18)\n",
    "#ax.set_yticks(fontsize=12)\n",
    "ax.set_ylim(0, 0.060, 0.005)\n",
    "ax.set_xticks(important_words_x)\n",
    "ax.set_xticklabels(important_words_x, fontsize=20, rotation=45)\n",
    "labels = list(colors.keys())\n",
    "handles = [plt.Rectangle((0,0),1,1, color=colors[label]) for label in labels]\n",
    "plt.savefig('./Results/Final_Model_Top_10_Words_White_Background.jpg', bbox_inches='tight');\n"
   ]
  },
  {
   "cell_type": "code",
   "execution_count": null,
   "metadata": {},
   "outputs": [],
   "source": []
  }
 ],
 "metadata": {
  "kernelspec": {
   "display_name": "Python (learn-env)",
   "language": "python",
   "name": "learn-env"
  },
  "language_info": {
   "codemirror_mode": {
    "name": "ipython",
    "version": 3
   },
   "file_extension": ".py",
   "mimetype": "text/x-python",
   "name": "python",
   "nbconvert_exporter": "python",
   "pygments_lexer": "ipython3",
   "version": "3.8.5"
  }
 },
 "nbformat": 4,
 "nbformat_minor": 4
}
